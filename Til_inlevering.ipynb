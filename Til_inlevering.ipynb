{
  "cells": [
    {
      "cell_type": "markdown",
      "metadata": {
        "id": "AiKnE8nB5vGM"
      },
      "source": [
        "### INFO284 Machine Learning Exam, spring 2024"
      ]
    },
    {
      "cell_type": "markdown",
      "metadata": {
        "id": "m9Bv9uf39YK_"
      },
      "source": [
        "#### Importing and versioncontrol for relevant libraries"
      ]
    },
    {
      "cell_type": "code",
      "execution_count": 308,
      "metadata": {
        "colab": {
          "base_uri": "https://localhost:8080/"
        },
        "id": "Vi0O1bxI9KEG",
        "outputId": "34b6ddad-ba8d-4810-efd0-c55602412e69"
      },
      "outputs": [
        {
          "name": "stdout",
          "output_type": "stream",
          "text": [
            "Python version: 3.12.2 (tags/v3.12.2:6abddd9, Feb  6 2024, 21:26:36) [MSC v.1937 64 bit (AMD64)]\n",
            "pandas version: 2.2.1\n",
            "matplotlib version: 3.8.3\n",
            "NumPy version: 1.26.4\n",
            "SciPy version: 1.12.0\n",
            "IPython version: 8.21.0\n",
            "scikit-learn version: 1.4.1.post1\n",
            "seaborn version: 0.13.2\n"
          ]
        }
      ],
      "source": [
        "import sys\n",
        "print(\"Python version: {}\".format(sys.version))\n",
        "import pandas as pd\n",
        "print(\"pandas version: {}\".format(pd.__version__))\n",
        "import matplotlib\n",
        "import matplotlib.pyplot as plt\n",
        "print(\"matplotlib version: {}\".format(matplotlib.__version__))\n",
        "import numpy as np\n",
        "print(\"NumPy version: {}\".format(np.__version__))\n",
        "import scipy as sp\n",
        "print(\"SciPy version: {}\".format(sp.__version__))\n",
        "import IPython\n",
        "print(\"IPython version: {}\".format(IPython.__version__))\n",
        "import sklearn\n",
        "print(\"scikit-learn version: {}\".format(sklearn.__version__))\n",
        "import seaborn as sns\n",
        "print(\"seaborn version: {}\".format(sns.__version__))"
      ]
    },
    {
      "cell_type": "markdown",
      "metadata": {
        "id": "DYRuts8B-ITy"
      },
      "source": [
        "#### Importing the dataset"
      ]
    },
    {
      "cell_type": "code",
      "execution_count": 309,
      "metadata": {
        "colab": {
          "base_uri": "https://localhost:8080/",
          "height": 269
        },
        "id": "dHNDvOovwmBw",
        "outputId": "993d640c-7f2d-442f-ee03-7bbb9e05380d"
      },
      "outputs": [
        {
          "name": "stdout",
          "output_type": "stream",
          "text": [
            "Before pre-processing the dataset has 45 columns and 305434 rows\n"
          ]
        }
      ],
      "source": [
        "filePath = 'elektronisk-rapportering-ers-2018-fangstmelding-dca-simple.csv'\n",
        "# Keep in mind that the file is encoded in UTF-8 so it will only work if you have the correct version of pandas.\n",
        "df = pd.read_csv(filePath, encoding=\"UTF-8\" , delimiter=\";\")\n",
        "print(f\"Before pre-processing the dataset has {df.shape[1]} columns and {df.shape[0]} rows\")\n"
      ]
    },
    {
      "cell_type": "markdown",
      "metadata": {
        "id": "Jw5rbR1t-fTc"
      },
      "source": [
        "#### Chosing target and pre-prossesing\n",
        "After taking some time to understand the data we have chosen our target features to be the catches of Hyse, Torsk and Sei as continuous values. Next we will pre-prosess the data so it is ready for modeling."
      ]
    },
    {
      "cell_type": "code",
      "execution_count": 310,
      "metadata": {},
      "outputs": [],
      "source": [
        "# Using the same seed for testing purposes makes the results more comparable\n",
        "seed = 32"
      ]
    },
    {
      "cell_type": "code",
      "execution_count": 311,
      "metadata": {},
      "outputs": [],
      "source": [
        "# Excluding irrelevant columns\n",
        "\n",
        "# Fangstår has only 2 unique values\n",
        "df.drop(columns = ['Fangstår'], inplace= True)\n",
        "\n",
        "# Lengdegruppe (kode), Lengdegruppe, Bruttotonnasje 1969, Bruttotonnasje annen, Bredde, Fartøylengde all seem to be speaking of the boat doing the catching, with few unique values in each column.\n",
        "# One of them should be kept as a feature, the rest discarded. We would suggest the most relevant to be Bruttotonasje, which speaks to how much cargo space there is.\n",
        "# \"Bruttotonnasje 1969\" and \"Bruttotonnasje annen\" seem to have nan where the other one has a value, so first we will collapse them into one.\n",
        "df['Bruttotonnasje'] = df['Bruttotonnasje annen'].combine_first(df['Bruttotonnasje 1969'])\n",
        "df.drop(columns=['Bruttotonnasje annen', \"Bruttotonnasje 1969\",\"Lengdegruppe (kode)\", \"Lengdegruppe\", \"Bredde\", \"Fartøylengde\"], inplace=True)\n",
        "\n",
        "# All columns (kode) in them are cateogrical code representations of another column. For human-readability and to avoid mistaking the code for a continuous value we will remove them.\n",
        "df.drop(columns=[\"Hovedområde start (kode)\", \"Lokasjon start (kode)\", \"Hovedområde stopp (kode)\", \"Lokasjon stopp (kode)\", \"Redskap FAO (kode)\", \"Redskap FDIR (kode)\", \"Hovedart FAO (kode)\", \"Hovedart - FDIR (kode)\", \"Art FAO (kode)\", \"Art - FDIR (kode)\", \"Art - gruppe (kode)\", ], inplace = True)\n",
        "\n",
        "# In both the \"Redskap\" and \"Art\" columns you have FAO and FDIR abbriviations. FAO = Food and Agriculture Organization of the United Nations and FDIR = Fiskeridirektoratet\n",
        "# Due to \"Hovedart\" onyl having FAO uncoded we will stick to FAO. For the same reason we will remove \"Art - gruppe\"\n",
        "df.drop(columns=[\"Art - gruppe\", \"Art - FDIR\", \"Redskap FDIR\"], inplace=True)\n",
        "\n",
        "# While time of day and date might be relevant we don't need all of them and we don't need to know when it was reported in. For now we will leave start/end date and time.\n",
        "df.drop(columns=[\"Meldingstidspunkt\", \"Meldingsdato\", \"Meldingsklokkeslett\", \"Starttidspunkt\", \"Stopptidspunkt\"], inplace=True)\n",
        "\n",
        "# The areas where they start and stop have 6 columns. A pair of coordiantes and name of area x2. Since we prefer the continuous features and coordinates=name of place we are removing the name.\n",
        "df.drop(columns=[\"Hovedområde start\", \"Hovedområde stopp\"], inplace=True)"
      ]
    },
    {
      "cell_type": "code",
      "execution_count": 312,
      "metadata": {},
      "outputs": [],
      "source": [
        "# After having checked to see what % of each column had nan values we decided just to drop them as at worst they were around 1.6 %\n",
        "df = df.dropna()\n"
      ]
    },
    {
      "cell_type": "code",
      "execution_count": 313,
      "metadata": {},
      "outputs": [],
      "source": [
        "# Focusing down on the species we want to investigate\n",
        "# More might be added later as categories or ranges\n",
        "\n",
        "df = df[df['Art FAO'].isin(['Torsk', 'Sei', 'Hyse'])]"
      ]
    },
    {
      "cell_type": "code",
      "execution_count": 314,
      "metadata": {},
      "outputs": [],
      "source": [
        "# Removing parts of columns\n",
        "\n",
        "# From varighet we remove anyting above 400 as according to lecturer that is in the high range of how long you would be fishing in a session.\n",
        "# So we will consider them outliers or multiple sessions reported as one and exclude them for now.\n",
        "\n",
        "df = df[df['Varighet'] <= 400]\n",
        "\n",
        "# Maybe remove some outliers from \"Trekkavstand\". Above 50000 the frequency gets 100 instances per 5000 length.\n",
        "# Just doing it for now, unsure of necessity\n",
        "df = df[df['Trekkavstand'] <= 50000]"
      ]
    },
    {
      "cell_type": "code",
      "execution_count": 315,
      "metadata": {},
      "outputs": [],
      "source": [
        "# Manipulating columns\n",
        "\n",
        "# The coordinates are strings, here I'm changing them to int so they're easier to use.\n",
        "# Later we might potentially change them in a different way.\n",
        "df['Startposisjon bredde'] = df['Startposisjon bredde'].str.replace(',', '').astype(int)\n",
        "df['Startposisjon lengde'] = df['Startposisjon lengde'].str.replace(',', '').astype(int)\n",
        "df['Stopposisjon bredde'] = df['Stopposisjon bredde'].str.replace(',', '').astype(int)\n",
        "df['Stopposisjon lengde'] = df['Stopposisjon lengde'].str.replace(',', '').astype(int)\n",
        "\n",
        "# Date/time could potentially be changed to month/hour?\n",
        "# df['Startmåned'] = df['Startdato'].astype(str).str[3:5]\n",
        "# df['Starttime'] = df['Startklokkeslett'].astype(str).str[3:5]\n",
        "# df['Stoppmåned'] = df['Stoppdato'].astype(str).str[3:5]\n",
        "# df['Stopptime'] = df['Stoppklokkeslett'].astype(str).str[3:5]\n",
        "df.drop(columns=['Startdato', \"Startklokkeslett\", \"Stoppdato\", \"Stoppklokkeslett\"], inplace=True)\n",
        "\n",
        "# Many of the sea depth notations are positiv, which doesn't make sense.\n",
        "# But the amount of them in relation to number of entries means it can't be discounted as an error\n",
        "# In the lecture on fisheries it was mentioned that a lot fo these are inputed manually\n",
        "# And that most of these non-sensical sea depths are actually correct, just lacking a minus.\n",
        "# Therefore we are simply flipping all the positive sea depth into negatives.\n",
        "df['Havdybde start'] = -df['Havdybde start'].abs()\n",
        "df['Havdybde stopp'] = -df['Havdybde stopp'].abs()\n",
        " "
      ]
    },
    {
      "cell_type": "code",
      "execution_count": 316,
      "metadata": {},
      "outputs": [
        {
          "data": {
            "text/plain": [
              "min          0.000000\n",
              "max     444994.000000\n",
              "mean      3663.366363\n",
              "Name: Rundvekt, dtype: float64"
            ]
          },
          "execution_count": 316,
          "metadata": {},
          "output_type": "execute_result"
        }
      ],
      "source": [
        "df['Rundvekt'].agg(['min', 'max', 'mean'])"
      ]
    },
    {
      "cell_type": "code",
      "execution_count": 317,
      "metadata": {},
      "outputs": [
        {
          "name": "stdout",
          "output_type": "stream",
          "text": [
            "After pre-processing the dataset has 16 columns and 51075 rows\n"
          ]
        }
      ],
      "source": [
        "# Pivoting table\n",
        "\n",
        "# Pivoting table so rows that are information about the same session are put together\n",
        "\n",
        "df = df.pivot_table(index=['Melding ID', 'Startposisjon bredde', 'Startposisjon lengde',\n",
        "                           'Havdybde start', 'Varighet', 'Stopposisjon bredde', 'Stopposisjon lengde', 'Havdybde stopp', 'Trekkavstand',\n",
        "                           'Redskap FAO', 'Hovedart FAO','Bruttotonnasje'], columns='Art FAO', values='Rundvekt', aggfunc='sum').reset_index()\n",
        "# df = df.pivot_table(index=['Melding ID', 'Startmåned', 'Starttime', 'Stoppmåned', 'Stopptime', 'Startposisjon bredde', 'Startposisjon lengde',\n",
        "#                            'Havdybde start', 'Varighet', 'Stopposisjon bredde', 'Stopposisjon lengde', 'Havdybde stopp', 'Trekkavstand',\n",
        "#                            'Redskap FAO', 'Hovedart FAO','Bruttotonnasje'], columns='Art FAO', values='Rundvekt', aggfunc='sum').reset_index()\n",
        "# This creates a lot of nan values which we fill with 0\n",
        "df = df.fillna(0)\n",
        "\n",
        "# We add another column to indicate which was the dominant catch during that session\n",
        "# Might be removed or deemed redunadant later on as it has a 86% match to \"Hovedfangst FAO\"\n",
        "df['Hovedfangst'] = df[['Hyse', 'Sei', 'Torsk']].idxmax(axis=1)\n",
        "\n",
        "print(f\"After pre-processing the dataset has {df.shape[1]} columns and {df.shape[0]} rows\")\n"
      ]
    },
    {
      "cell_type": "code",
      "execution_count": 318,
      "metadata": {},
      "outputs": [
        {
          "name": "stdout",
          "output_type": "stream",
          "text": [
            "['Melding ID', 'Startposisjon bredde', 'Startposisjon lengde', 'Havdybde start', 'Varighet', 'Stopposisjon bredde', 'Stopposisjon lengde', 'Havdybde stopp', 'Trekkavstand', 'Redskap FAO', 'Hovedart FAO', 'Bruttotonnasje', 'Hyse', 'Sei', 'Torsk', 'Hovedfangst']\n"
          ]
        }
      ],
      "source": [
        "column_names = df.columns.tolist()\n",
        "print(column_names)"
      ]
    },
    {
      "cell_type": "markdown",
      "metadata": {},
      "source": [
        "#### Fra 20/3"
      ]
    },
    {
      "cell_type": "code",
      "execution_count": 320,
      "metadata": {},
      "outputs": [],
      "source": [
        "from sklearn.model_selection import train_test_split\n",
        "from sklearn.ensemble import RandomForestRegressor\n",
        "from sklearn.metrics import mean_squared_error\n",
        "from sklearn.metrics import r2_score\n",
        "\n",
        "# First we try to scale the numerical features\n",
        "from sklearn.preprocessing import RobustScaler\n",
        "# 'Startmåned', 'Starttime', 'Stoppmåned', 'Stopptime',\n",
        "num_feat = df[['Melding ID', 'Startposisjon bredde', 'Startposisjon lengde', 'Havdybde start',\n",
        "        'Varighet', 'Stopposisjon bredde', 'Stopposisjon lengde', 'Havdybde stopp', 'Trekkavstand', 'Bruttotonnasje']]\n",
        "scaler = RobustScaler()\n",
        "scaled_features = scaler.fit_transform(num_feat)\n",
        "scaled_df = pd.DataFrame(scaled_features, columns=num_feat.columns)\n",
        "\n",
        "# Now we one-hot encode the categorical features\n",
        "from sklearn.preprocessing import OneHotEncoder\n",
        "\n",
        "cat_feat = df[[\"Redskap FAO\", \"Hovedart FAO\"]]\n",
        "encoder = OneHotEncoder()\n",
        "enc_feat= encoder.fit_transform(cat_feat)\n",
        "enc_df = pd.DataFrame(enc_feat.toarray(), columns=encoder.get_feature_names_out())\n",
        "\n",
        "\n",
        "q = pd.concat([enc_df, scaled_df], axis=1)\n",
        "\n",
        "y = df[['Hyse', 'Sei', 'Torsk']]\n",
        "\n"
      ]
    },
    {
      "cell_type": "code",
      "execution_count": 321,
      "metadata": {},
      "outputs": [
        {
          "name": "stdout",
          "output_type": "stream",
          "text": [
            "R2: 0.6425864580729094, RMSE: 3912.553980975195. Version: 200, 25, 40\n"
          ]
        }
      ],
      "source": [
        "def RandomForestTester(features, targets, estimator, feature_max, depth_max):  \n",
        "    X_train, X_test, y_train, y_test = train_test_split(features, targets, random_state=seed)\n",
        "    clf = RandomForestRegressor(n_estimators=estimator, max_features=feature_max, max_depth=depth_max)\n",
        "    clf.fit(X_train, y_train)\n",
        "    y_pred = clf.predict(X_test)\n",
        "\n",
        "    rmse = np.sqrt(mean_squared_error(y_test, y_pred))\n",
        "    r2 = r2_score(y_test, y_pred)\n",
        "    test_version = f\"Version: {estimator}, {feature_max}, {depth_max}\"\n",
        "    print(f\"R2: {r2}, RMSE: {rmse}. {test_version}\")\n",
        "\n",
        "rft = RandomForestTester(q, y, 200, 25, 40)"
      ]
    },
    {
      "cell_type": "code",
      "execution_count": 322,
      "metadata": {},
      "outputs": [
        {
          "ename": "ValueError",
          "evalue": "shape mismatch: objects cannot be broadcast to a single shape.  Mismatch is between arg 2 with shape (87,) and arg 3 with shape (83,).",
          "output_type": "error",
          "traceback": [
            "\u001b[1;31m---------------------------------------------------------------------------\u001b[0m",
            "\u001b[1;31mValueError\u001b[0m                                Traceback (most recent call last)",
            "Cell \u001b[1;32mIn[322], line 15\u001b[0m\n\u001b[0;32m     12\u001b[0m     plt\u001b[38;5;241m.\u001b[39mtitle(\u001b[38;5;124m\"\u001b[39m\u001b[38;5;124mFeature importances of the model \u001b[39m\u001b[38;5;132;01m{}\u001b[39;00m\u001b[38;5;124m\"\u001b[39m\u001b[38;5;241m.\u001b[39mformat(model\u001b[38;5;241m.\u001b[39m\u001b[38;5;18m__class__\u001b[39m\u001b[38;5;241m.\u001b[39m\u001b[38;5;18m__name__\u001b[39m))\n\u001b[0;32m     13\u001b[0m     plt\u001b[38;5;241m.\u001b[39mtight_layout(pad\u001b[38;5;241m=\u001b[39m\u001b[38;5;241m0.5\u001b[39m)\n\u001b[1;32m---> 15\u001b[0m \u001b[43mplot_feature_importances\u001b[49m\u001b[43m(\u001b[49m\u001b[43mclf\u001b[49m\u001b[43m,\u001b[49m\u001b[43m \u001b[49m\u001b[43mq\u001b[49m\u001b[43m)\u001b[49m\n",
            "Cell \u001b[1;32mIn[322], line 8\u001b[0m, in \u001b[0;36mplot_feature_importances\u001b[1;34m(model, feature_columns)\u001b[0m\n\u001b[0;32m      6\u001b[0m fig \u001b[38;5;241m=\u001b[39m plt\u001b[38;5;241m.\u001b[39mfigure(figsize\u001b[38;5;241m=\u001b[39m(\u001b[38;5;241m12\u001b[39m,\u001b[38;5;241m14\u001b[39m))\n\u001b[0;32m      7\u001b[0m plt\u001b[38;5;241m.\u001b[39msubplot(\u001b[38;5;241m111\u001b[39m)\n\u001b[1;32m----> 8\u001b[0m \u001b[43mplt\u001b[49m\u001b[38;5;241;43m.\u001b[39;49m\u001b[43mbarh\u001b[49m\u001b[43m(\u001b[49m\u001b[38;5;28;43mrange\u001b[39;49m\u001b[43m(\u001b[49m\u001b[43mn_features\u001b[49m\u001b[43m)\u001b[49m\u001b[43m,\u001b[49m\u001b[43m \u001b[49m\u001b[43mfeature_importances\u001b[49m\u001b[43m,\u001b[49m\u001b[43m \u001b[49m\u001b[43mheight\u001b[49m\u001b[38;5;241;43m=\u001b[39;49m\u001b[38;5;241;43m1\u001b[39;49m\u001b[43m,\u001b[49m\u001b[43m \u001b[49m\u001b[43mcolor\u001b[49m\u001b[38;5;241;43m=\u001b[39;49m\u001b[38;5;124;43m'\u001b[39;49m\u001b[38;5;124;43mb\u001b[39;49m\u001b[38;5;124;43m'\u001b[39;49m\u001b[43m,\u001b[49m\u001b[43m \u001b[49m\u001b[43malign\u001b[49m\u001b[38;5;241;43m=\u001b[39;49m\u001b[38;5;124;43m'\u001b[39;49m\u001b[38;5;124;43mcenter\u001b[39;49m\u001b[38;5;124;43m'\u001b[39;49m\u001b[43m)\u001b[49m\n\u001b[0;32m      9\u001b[0m plt\u001b[38;5;241m.\u001b[39myticks(np\u001b[38;5;241m.\u001b[39marange(n_features), feature_indices[:n_features])\n\u001b[0;32m     10\u001b[0m plt\u001b[38;5;241m.\u001b[39mxlabel(\u001b[38;5;124m\"\u001b[39m\u001b[38;5;124mFeature importances\u001b[39m\u001b[38;5;124m\"\u001b[39m)\n",
            "File \u001b[1;32mc:\\Users\\Przybyslaw Paz\\Desktop\\Code\\Studie\\INFO284Gruppe\\.venv\\Lib\\site-packages\\matplotlib\\pyplot.py:2783\u001b[0m, in \u001b[0;36mbarh\u001b[1;34m(y, width, height, left, align, data, **kwargs)\u001b[0m\n\u001b[0;32m   2772\u001b[0m \u001b[38;5;129m@_copy_docstring_and_deprecators\u001b[39m(Axes\u001b[38;5;241m.\u001b[39mbarh)\n\u001b[0;32m   2773\u001b[0m \u001b[38;5;28;01mdef\u001b[39;00m \u001b[38;5;21mbarh\u001b[39m(\n\u001b[0;32m   2774\u001b[0m     y: \u001b[38;5;28mfloat\u001b[39m \u001b[38;5;241m|\u001b[39m ArrayLike,\n\u001b[1;32m   (...)\u001b[0m\n\u001b[0;32m   2781\u001b[0m     \u001b[38;5;241m*\u001b[39m\u001b[38;5;241m*\u001b[39mkwargs,\n\u001b[0;32m   2782\u001b[0m ) \u001b[38;5;241m-\u001b[39m\u001b[38;5;241m>\u001b[39m BarContainer:\n\u001b[1;32m-> 2783\u001b[0m     \u001b[38;5;28;01mreturn\u001b[39;00m \u001b[43mgca\u001b[49m\u001b[43m(\u001b[49m\u001b[43m)\u001b[49m\u001b[38;5;241;43m.\u001b[39;49m\u001b[43mbarh\u001b[49m\u001b[43m(\u001b[49m\n\u001b[0;32m   2784\u001b[0m \u001b[43m        \u001b[49m\u001b[43my\u001b[49m\u001b[43m,\u001b[49m\n\u001b[0;32m   2785\u001b[0m \u001b[43m        \u001b[49m\u001b[43mwidth\u001b[49m\u001b[43m,\u001b[49m\n\u001b[0;32m   2786\u001b[0m \u001b[43m        \u001b[49m\u001b[43mheight\u001b[49m\u001b[38;5;241;43m=\u001b[39;49m\u001b[43mheight\u001b[49m\u001b[43m,\u001b[49m\n\u001b[0;32m   2787\u001b[0m \u001b[43m        \u001b[49m\u001b[43mleft\u001b[49m\u001b[38;5;241;43m=\u001b[39;49m\u001b[43mleft\u001b[49m\u001b[43m,\u001b[49m\n\u001b[0;32m   2788\u001b[0m \u001b[43m        \u001b[49m\u001b[43malign\u001b[49m\u001b[38;5;241;43m=\u001b[39;49m\u001b[43malign\u001b[49m\u001b[43m,\u001b[49m\n\u001b[0;32m   2789\u001b[0m \u001b[43m        \u001b[49m\u001b[38;5;241;43m*\u001b[39;49m\u001b[38;5;241;43m*\u001b[39;49m\u001b[43m(\u001b[49m\u001b[43m{\u001b[49m\u001b[38;5;124;43m\"\u001b[39;49m\u001b[38;5;124;43mdata\u001b[39;49m\u001b[38;5;124;43m\"\u001b[39;49m\u001b[43m:\u001b[49m\u001b[43m \u001b[49m\u001b[43mdata\u001b[49m\u001b[43m}\u001b[49m\u001b[43m \u001b[49m\u001b[38;5;28;43;01mif\u001b[39;49;00m\u001b[43m \u001b[49m\u001b[43mdata\u001b[49m\u001b[43m \u001b[49m\u001b[38;5;129;43;01mis\u001b[39;49;00m\u001b[43m \u001b[49m\u001b[38;5;129;43;01mnot\u001b[39;49;00m\u001b[43m \u001b[49m\u001b[38;5;28;43;01mNone\u001b[39;49;00m\u001b[43m \u001b[49m\u001b[38;5;28;43;01melse\u001b[39;49;00m\u001b[43m \u001b[49m\u001b[43m{\u001b[49m\u001b[43m}\u001b[49m\u001b[43m)\u001b[49m\u001b[43m,\u001b[49m\n\u001b[0;32m   2790\u001b[0m \u001b[43m        \u001b[49m\u001b[38;5;241;43m*\u001b[39;49m\u001b[38;5;241;43m*\u001b[39;49m\u001b[43mkwargs\u001b[49m\u001b[43m,\u001b[49m\n\u001b[0;32m   2791\u001b[0m \u001b[43m    \u001b[49m\u001b[43m)\u001b[49m\n",
            "File \u001b[1;32mc:\\Users\\Przybyslaw Paz\\Desktop\\Code\\Studie\\INFO284Gruppe\\.venv\\Lib\\site-packages\\matplotlib\\axes\\_axes.py:2701\u001b[0m, in \u001b[0;36mAxes.barh\u001b[1;34m(self, y, width, height, left, align, data, **kwargs)\u001b[0m\n\u001b[0;32m   2582\u001b[0m \u001b[38;5;250m\u001b[39m\u001b[38;5;124mr\u001b[39m\u001b[38;5;124;03m\"\"\"\u001b[39;00m\n\u001b[0;32m   2583\u001b[0m \u001b[38;5;124;03mMake a horizontal bar plot.\u001b[39;00m\n\u001b[0;32m   2584\u001b[0m \n\u001b[1;32m   (...)\u001b[0m\n\u001b[0;32m   2698\u001b[0m \u001b[38;5;124;03m:doc:`/gallery/lines_bars_and_markers/horizontal_barchart_distribution`.\u001b[39;00m\n\u001b[0;32m   2699\u001b[0m \u001b[38;5;124;03m\"\"\"\u001b[39;00m\n\u001b[0;32m   2700\u001b[0m kwargs\u001b[38;5;241m.\u001b[39msetdefault(\u001b[38;5;124m'\u001b[39m\u001b[38;5;124morientation\u001b[39m\u001b[38;5;124m'\u001b[39m, \u001b[38;5;124m'\u001b[39m\u001b[38;5;124mhorizontal\u001b[39m\u001b[38;5;124m'\u001b[39m)\n\u001b[1;32m-> 2701\u001b[0m patches \u001b[38;5;241m=\u001b[39m \u001b[38;5;28;43mself\u001b[39;49m\u001b[38;5;241;43m.\u001b[39;49m\u001b[43mbar\u001b[49m\u001b[43m(\u001b[49m\u001b[43mx\u001b[49m\u001b[38;5;241;43m=\u001b[39;49m\u001b[43mleft\u001b[49m\u001b[43m,\u001b[49m\u001b[43m \u001b[49m\u001b[43mheight\u001b[49m\u001b[38;5;241;43m=\u001b[39;49m\u001b[43mheight\u001b[49m\u001b[43m,\u001b[49m\u001b[43m \u001b[49m\u001b[43mwidth\u001b[49m\u001b[38;5;241;43m=\u001b[39;49m\u001b[43mwidth\u001b[49m\u001b[43m,\u001b[49m\u001b[43m \u001b[49m\u001b[43mbottom\u001b[49m\u001b[38;5;241;43m=\u001b[39;49m\u001b[43my\u001b[49m\u001b[43m,\u001b[49m\n\u001b[0;32m   2702\u001b[0m \u001b[43m                   \u001b[49m\u001b[43malign\u001b[49m\u001b[38;5;241;43m=\u001b[39;49m\u001b[43malign\u001b[49m\u001b[43m,\u001b[49m\u001b[43m \u001b[49m\u001b[43mdata\u001b[49m\u001b[38;5;241;43m=\u001b[39;49m\u001b[43mdata\u001b[49m\u001b[43m,\u001b[49m\u001b[43m \u001b[49m\u001b[38;5;241;43m*\u001b[39;49m\u001b[38;5;241;43m*\u001b[39;49m\u001b[43mkwargs\u001b[49m\u001b[43m)\u001b[49m\n\u001b[0;32m   2703\u001b[0m \u001b[38;5;28;01mreturn\u001b[39;00m patches\n",
            "File \u001b[1;32mc:\\Users\\Przybyslaw Paz\\Desktop\\Code\\Studie\\INFO284Gruppe\\.venv\\Lib\\site-packages\\matplotlib\\__init__.py:1478\u001b[0m, in \u001b[0;36m_preprocess_data.<locals>.inner\u001b[1;34m(ax, data, *args, **kwargs)\u001b[0m\n\u001b[0;32m   1475\u001b[0m \u001b[38;5;129m@functools\u001b[39m\u001b[38;5;241m.\u001b[39mwraps(func)\n\u001b[0;32m   1476\u001b[0m \u001b[38;5;28;01mdef\u001b[39;00m \u001b[38;5;21minner\u001b[39m(ax, \u001b[38;5;241m*\u001b[39margs, data\u001b[38;5;241m=\u001b[39m\u001b[38;5;28;01mNone\u001b[39;00m, \u001b[38;5;241m*\u001b[39m\u001b[38;5;241m*\u001b[39mkwargs):\n\u001b[0;32m   1477\u001b[0m     \u001b[38;5;28;01mif\u001b[39;00m data \u001b[38;5;129;01mis\u001b[39;00m \u001b[38;5;28;01mNone\u001b[39;00m:\n\u001b[1;32m-> 1478\u001b[0m         \u001b[38;5;28;01mreturn\u001b[39;00m \u001b[43mfunc\u001b[49m\u001b[43m(\u001b[49m\u001b[43max\u001b[49m\u001b[43m,\u001b[49m\u001b[43m \u001b[49m\u001b[38;5;241;43m*\u001b[39;49m\u001b[38;5;28;43mmap\u001b[39;49m\u001b[43m(\u001b[49m\u001b[43msanitize_sequence\u001b[49m\u001b[43m,\u001b[49m\u001b[43m \u001b[49m\u001b[43margs\u001b[49m\u001b[43m)\u001b[49m\u001b[43m,\u001b[49m\u001b[43m \u001b[49m\u001b[38;5;241;43m*\u001b[39;49m\u001b[38;5;241;43m*\u001b[39;49m\u001b[43mkwargs\u001b[49m\u001b[43m)\u001b[49m\n\u001b[0;32m   1480\u001b[0m     bound \u001b[38;5;241m=\u001b[39m new_sig\u001b[38;5;241m.\u001b[39mbind(ax, \u001b[38;5;241m*\u001b[39margs, \u001b[38;5;241m*\u001b[39m\u001b[38;5;241m*\u001b[39mkwargs)\n\u001b[0;32m   1481\u001b[0m     auto_label \u001b[38;5;241m=\u001b[39m (bound\u001b[38;5;241m.\u001b[39marguments\u001b[38;5;241m.\u001b[39mget(label_namer)\n\u001b[0;32m   1482\u001b[0m                   \u001b[38;5;129;01mor\u001b[39;00m bound\u001b[38;5;241m.\u001b[39mkwargs\u001b[38;5;241m.\u001b[39mget(label_namer))\n",
            "File \u001b[1;32mc:\\Users\\Przybyslaw Paz\\Desktop\\Code\\Studie\\INFO284Gruppe\\.venv\\Lib\\site-packages\\matplotlib\\axes\\_axes.py:2460\u001b[0m, in \u001b[0;36mAxes.bar\u001b[1;34m(self, x, height, width, bottom, align, **kwargs)\u001b[0m\n\u001b[0;32m   2457\u001b[0m     \u001b[38;5;28;01mif\u001b[39;00m yerr \u001b[38;5;129;01mis\u001b[39;00m \u001b[38;5;129;01mnot\u001b[39;00m \u001b[38;5;28;01mNone\u001b[39;00m:\n\u001b[0;32m   2458\u001b[0m         yerr \u001b[38;5;241m=\u001b[39m \u001b[38;5;28mself\u001b[39m\u001b[38;5;241m.\u001b[39m_convert_dx(yerr, y0, y, \u001b[38;5;28mself\u001b[39m\u001b[38;5;241m.\u001b[39mconvert_yunits)\n\u001b[1;32m-> 2460\u001b[0m x, height, width, y, linewidth, hatch \u001b[38;5;241m=\u001b[39m \u001b[43mnp\u001b[49m\u001b[38;5;241;43m.\u001b[39;49m\u001b[43mbroadcast_arrays\u001b[49m\u001b[43m(\u001b[49m\n\u001b[0;32m   2461\u001b[0m \u001b[43m    \u001b[49m\u001b[38;5;66;43;03m# Make args iterable too.\u001b[39;49;00m\n\u001b[0;32m   2462\u001b[0m \u001b[43m    \u001b[49m\u001b[43mnp\u001b[49m\u001b[38;5;241;43m.\u001b[39;49m\u001b[43matleast_1d\u001b[49m\u001b[43m(\u001b[49m\u001b[43mx\u001b[49m\u001b[43m)\u001b[49m\u001b[43m,\u001b[49m\u001b[43m \u001b[49m\u001b[43mheight\u001b[49m\u001b[43m,\u001b[49m\u001b[43m \u001b[49m\u001b[43mwidth\u001b[49m\u001b[43m,\u001b[49m\u001b[43m \u001b[49m\u001b[43my\u001b[49m\u001b[43m,\u001b[49m\u001b[43m \u001b[49m\u001b[43mlinewidth\u001b[49m\u001b[43m,\u001b[49m\u001b[43m \u001b[49m\u001b[43mhatch\u001b[49m\u001b[43m)\u001b[49m\n\u001b[0;32m   2464\u001b[0m \u001b[38;5;66;03m# Now that units have been converted, set the tick locations.\u001b[39;00m\n\u001b[0;32m   2465\u001b[0m \u001b[38;5;28;01mif\u001b[39;00m orientation \u001b[38;5;241m==\u001b[39m \u001b[38;5;124m'\u001b[39m\u001b[38;5;124mvertical\u001b[39m\u001b[38;5;124m'\u001b[39m:\n",
            "File \u001b[1;32mc:\\Users\\Przybyslaw Paz\\Desktop\\Code\\Studie\\INFO284Gruppe\\.venv\\Lib\\site-packages\\numpy\\lib\\stride_tricks.py:540\u001b[0m, in \u001b[0;36mbroadcast_arrays\u001b[1;34m(subok, *args)\u001b[0m\n\u001b[0;32m    533\u001b[0m \u001b[38;5;66;03m# nditer is not used here to avoid the limit of 32 arrays.\u001b[39;00m\n\u001b[0;32m    534\u001b[0m \u001b[38;5;66;03m# Otherwise, something like the following one-liner would suffice:\u001b[39;00m\n\u001b[0;32m    535\u001b[0m \u001b[38;5;66;03m# return np.nditer(args, flags=['multi_index', 'zerosize_ok'],\u001b[39;00m\n\u001b[0;32m    536\u001b[0m \u001b[38;5;66;03m#                  order='C').itviews\u001b[39;00m\n\u001b[0;32m    538\u001b[0m args \u001b[38;5;241m=\u001b[39m [np\u001b[38;5;241m.\u001b[39marray(_m, copy\u001b[38;5;241m=\u001b[39m\u001b[38;5;28;01mFalse\u001b[39;00m, subok\u001b[38;5;241m=\u001b[39msubok) \u001b[38;5;28;01mfor\u001b[39;00m _m \u001b[38;5;129;01min\u001b[39;00m args]\n\u001b[1;32m--> 540\u001b[0m shape \u001b[38;5;241m=\u001b[39m \u001b[43m_broadcast_shape\u001b[49m\u001b[43m(\u001b[49m\u001b[38;5;241;43m*\u001b[39;49m\u001b[43margs\u001b[49m\u001b[43m)\u001b[49m\n\u001b[0;32m    542\u001b[0m \u001b[38;5;28;01mif\u001b[39;00m \u001b[38;5;28mall\u001b[39m(array\u001b[38;5;241m.\u001b[39mshape \u001b[38;5;241m==\u001b[39m shape \u001b[38;5;28;01mfor\u001b[39;00m array \u001b[38;5;129;01min\u001b[39;00m args):\n\u001b[0;32m    543\u001b[0m     \u001b[38;5;66;03m# Common case where nothing needs to be broadcasted.\u001b[39;00m\n\u001b[0;32m    544\u001b[0m     \u001b[38;5;28;01mreturn\u001b[39;00m args\n",
            "File \u001b[1;32mc:\\Users\\Przybyslaw Paz\\Desktop\\Code\\Studie\\INFO284Gruppe\\.venv\\Lib\\site-packages\\numpy\\lib\\stride_tricks.py:422\u001b[0m, in \u001b[0;36m_broadcast_shape\u001b[1;34m(*args)\u001b[0m\n\u001b[0;32m    417\u001b[0m \u001b[38;5;250m\u001b[39m\u001b[38;5;124;03m\"\"\"Returns the shape of the arrays that would result from broadcasting the\u001b[39;00m\n\u001b[0;32m    418\u001b[0m \u001b[38;5;124;03msupplied arrays against each other.\u001b[39;00m\n\u001b[0;32m    419\u001b[0m \u001b[38;5;124;03m\"\"\"\u001b[39;00m\n\u001b[0;32m    420\u001b[0m \u001b[38;5;66;03m# use the old-iterator because np.nditer does not handle size 0 arrays\u001b[39;00m\n\u001b[0;32m    421\u001b[0m \u001b[38;5;66;03m# consistently\u001b[39;00m\n\u001b[1;32m--> 422\u001b[0m b \u001b[38;5;241m=\u001b[39m \u001b[43mnp\u001b[49m\u001b[38;5;241;43m.\u001b[39;49m\u001b[43mbroadcast\u001b[49m\u001b[43m(\u001b[49m\u001b[38;5;241;43m*\u001b[39;49m\u001b[43margs\u001b[49m\u001b[43m[\u001b[49m\u001b[43m:\u001b[49m\u001b[38;5;241;43m32\u001b[39;49m\u001b[43m]\u001b[49m\u001b[43m)\u001b[49m\n\u001b[0;32m    423\u001b[0m \u001b[38;5;66;03m# unfortunately, it cannot handle 32 or more arguments directly\u001b[39;00m\n\u001b[0;32m    424\u001b[0m \u001b[38;5;28;01mfor\u001b[39;00m pos \u001b[38;5;129;01min\u001b[39;00m \u001b[38;5;28mrange\u001b[39m(\u001b[38;5;241m32\u001b[39m, \u001b[38;5;28mlen\u001b[39m(args), \u001b[38;5;241m31\u001b[39m):\n\u001b[0;32m    425\u001b[0m     \u001b[38;5;66;03m# ironically, np.broadcast does not properly handle np.broadcast\u001b[39;00m\n\u001b[0;32m    426\u001b[0m     \u001b[38;5;66;03m# objects (it treats them as scalars)\u001b[39;00m\n\u001b[0;32m    427\u001b[0m     \u001b[38;5;66;03m# use broadcasting to avoid allocating the full array\u001b[39;00m\n",
            "\u001b[1;31mValueError\u001b[0m: shape mismatch: objects cannot be broadcast to a single shape.  Mismatch is between arg 2 with shape (87,) and arg 3 with shape (83,)."
          ]
        },
        {
          "data": {
            "image/png": "[encoded data removed]",
            "text/plain": [
              "<Figure size 1200x1400 with 1 Axes>"
            ]
          },
          "metadata": {},
          "output_type": "display_data"
        }
      ],
      "source": [
        "\n",
        "def plot_feature_importances(model, feature_columns):\n",
        "    n_features = len(feature_columns.columns)\n",
        "    feature_indices = feature_columns.columns.tolist()\n",
        "    feature_importances = model.feature_importances_\n",
        "\n",
        "    fig = plt.figure(figsize=(12,14))\n",
        "    plt.subplot(111)\n",
        "    plt.barh(range(n_features), feature_importances, height=1, color='b', align='center')\n",
        "    plt.yticks(np.arange(n_features), feature_indices[:n_features])\n",
        "    plt.xlabel(\"Feature importances\")\n",
        "    plt.ylabel(\"Feature\")\n",
        "    plt.title(\"Feature importances of the model {}\".format(model.__class__.__name__))\n",
        "    plt.tight_layout(pad=0.5)\n",
        "\n",
        "plot_feature_importances(clf, q)"
      ]
    },
    {
      "cell_type": "code",
      "execution_count": null,
      "metadata": {},
      "outputs": [],
      "source": [
        "\n",
        "# # Example DataFrame with the column you want to one-hot encode\n",
        "# data = df[[\"Hovedart FAO\"]]\n",
        "\n",
        "# # List the three unique values that should have separate columns\n",
        "# unique_values = ['Hyse', 'Torsk', 'Sei']\n",
        "\n",
        "# # One-hot encode the three unique values\n",
        "# one_hot_encoded = pd.get_dummies(data['Hovedart FAO'][data['Hovedart FAO'].isin(unique_values)])\n",
        "\n",
        "# one_hot_encoded = one_hot_encoded.astype(int)\n",
        "\n",
        "# # Combine the remaining values into a single \"other\" column\n",
        "# other_values = data[~data['Hovedart FAO'].isin(unique_values)]\n",
        "# other_values['other'] = 1  # Assigning 1 to all rows\n",
        "\n",
        "# other_values['other'] = other_values['other'].astype(int)\n",
        "\n",
        "# # Concatenate the one-hot encoded columns and the \"other\" column\n",
        "# result_df = pd.concat([one_hot_encoded, other_values[['other']]], axis=1)\n",
        "# result_df.fillna(0, inplace=True)\n",
        "\n",
        "# print(result_df)\n"
      ]
    },
    {
      "cell_type": "code",
      "execution_count": null,
      "metadata": {},
      "outputs": [],
      "source": [
        "# from sklearn.model_selection import train_test_split\n",
        "# from sklearn.ensemble import RandomForestRegressor\n",
        "# from sklearn.metrics import mean_squared_error\n",
        "# from sklearn.metrics import r2_score\n",
        "\n",
        "# # Running without scaled or one-hot encoded features.\n",
        "# # Meaning that currently none of the categorical features are being used.\n",
        "# x = df[['Melding ID', 'Startmåned', 'Starttime', 'Stoppmåned', 'Stopptime', 'Startposisjon bredde', 'Startposisjon lengde', 'Havdybde start',\n",
        "#         'Varighet', 'Stopposisjon bredde', 'Stopposisjon lengde', 'Havdybde stopp', 'Trekkavstand', 'Bruttotonnasje']]\n",
        "# y = df[['Hyse', 'Sei', 'Torsk']]\n",
        "\n",
        "# X_train, X_test, y_train, y_test = train_test_split(x, y, random_state=seed)\n",
        "# clf = RandomForestRegressor(n_estimators=100, max_features=15, max_depth=40)\n",
        "# clf.fit(X_train, y_train)\n",
        "# y_pred = clf.predict(X_test)\n",
        "\n",
        "\n",
        "# rmse = np.sqrt(mean_squared_error(y_test, y_pred))\n",
        "# std = y_test.std()\n",
        "# print(type(std), type(rmse))\n",
        "# print(\"RMSE on test set: \", rmse)\n",
        "# print(\"Standard deviation of the target variable: \", std)\n",
        "# r2 = r2_score(y_test, y_pred)\n",
        "# print(\"R2 Score:\", r2)\n"
      ]
    },
    {
      "cell_type": "code",
      "execution_count": null,
      "metadata": {},
      "outputs": [],
      "source": [
        "# def plot_feature_importances_cancer(model):\n",
        "#     n_features = x.shape[1]\n",
        "#     plt.barh(range(n_features), model.feature_importances_, align='center')\n",
        "#     plt.yticks(np.arange(n_features), x.keys())\n",
        "#     plt.xlabel(\"Feature importance\")\n",
        "#     plt.ylabel(\"Feature\")\n",
        "# plot_feature_importances_cancer(clf)"
      ]
    },
    {
      "cell_type": "code",
      "execution_count": null,
      "metadata": {},
      "outputs": [],
      "source": [
        "# # First we try to scale the features\n",
        "# from sklearn.preprocessing import RobustScaler\n",
        "\n",
        "# num_feat = df[['Melding ID', 'Startmåned', 'Starttime', 'Stoppmåned', 'Stopptime', 'Startposisjon bredde', 'Startposisjon lengde', 'Havdybde start',\n",
        "#         'Varighet', 'Stopposisjon bredde', 'Stopposisjon lengde', 'Havdybde stopp', 'Trekkavstand', 'Bruttotonnasje']]\n",
        "# scaler = RobustScaler()\n",
        "# scaled_features = scaler.fit_transform(num_feat)\n",
        "# scaled_df = pd.DataFrame(scaled_features, columns=num_feat.columns)"
      ]
    },
    {
      "cell_type": "code",
      "execution_count": null,
      "metadata": {},
      "outputs": [],
      "source": [
        "# Now let's test with the scaled features\n",
        "\n",
        "# x = scaled_df\n",
        "# y = df[['Hyse', 'Sei', 'Torsk']]\n",
        "\n",
        "# X_train, X_test, y_train, y_test = train_test_split(x, y, random_state=seed)\n",
        "# clf = RandomForestRegressor(n_estimators=100, max_features=15, max_depth=40)\n",
        "# clf.fit(X_train, y_train)\n",
        "# y_pred = clf.predict(X_test)\n",
        "\n",
        "\n",
        "# rmse = np.sqrt(mean_squared_error(y_test, y_pred))\n",
        "# std = y_test.std()\n",
        "# print(type(std), type(rmse))\n",
        "# print(\"RMSE on test set: \", rmse)\n",
        "# print(\"Standard deviation of the target variable: \", std)\n",
        "\n",
        "# r2 = r2_score(y_test, y_pred)\n",
        "# print(\"R2 Score:\", r2)"
      ]
    },
    {
      "cell_type": "code",
      "execution_count": null,
      "metadata": {},
      "outputs": [],
      "source": [
        "# # Test feature importance\n",
        "# def plot_feature_importances_cancer(model):\n",
        "#     n_features = x.shape[1]\n",
        "#     plt.barh(range(n_features), model.feature_importances_, align='center')\n",
        "#     plt.yticks(np.arange(n_features), x.keys())\n",
        "#     plt.xlabel(\"Feature importance\")\n",
        "#     plt.ylabel(\"Feature\")\n",
        "# plot_feature_importances_cancer(clf)"
      ]
    },
    {
      "cell_type": "code",
      "execution_count": null,
      "metadata": {},
      "outputs": [],
      "source": [
        "# from sklearn.preprocessing import OneHotEncoder\n",
        "\n",
        "\n",
        "# w = df[['Melding ID', 'Startmåned', 'Starttime', 'Stoppmåned', 'Stopptime', 'Startposisjon bredde', 'Startposisjon lengde', 'Havdybde start',\n",
        "#         'Varighet', 'Stopposisjon bredde', 'Stopposisjon lengde', 'Havdybde stopp', 'Trekkavstand', 'Bruttotonnasje']]\n",
        "# cat_feat = df[[\"Redskap FAO\", \"Hovedart FAO\"]]\n",
        "# encoder = OneHotEncoder()\n",
        "# enc_feat= encoder.fit_transform(cat_feat)\n",
        "# enc_df = pd.DataFrame(enc_feat.toarray(), columns=encoder.get_feature_names_out())\n",
        "# s = pd.concat([w, enc_df], axis=1)\n"
      ]
    },
    {
      "cell_type": "code",
      "execution_count": null,
      "metadata": {},
      "outputs": [],
      "source": [
        "# Categorical one-hot encoded + numerical\n",
        "# y = df[['Hyse', 'Sei', 'Torsk']]\n",
        "\n",
        "# X_train, X_test, y_train, y_test = train_test_split(s, y, random_state=seed)\n",
        "# clf = RandomForestRegressor(n_estimators=100, max_features=15, max_depth=40)\n",
        "# clf.fit(X_train, y_train)\n",
        "# y_pred = clf.predict(X_test)\n",
        "\n",
        "\n",
        "# rmse = np.sqrt(mean_squared_error(y_test, y_pred))\n",
        "# std = y_test.std()\n",
        "# print(type(std), type(rmse))\n",
        "# print(\"RMSE on test set: \", rmse)\n",
        "# print(\"Standard deviation of the target variable: \", std)\n",
        "\n",
        "# r2 = r2_score(y_test, y_pred)\n",
        "# print(\"R2 Score:\", r2)"
      ]
    },
    {
      "cell_type": "code",
      "execution_count": null,
      "metadata": {},
      "outputs": [],
      "source": [
        "# def plot_feature_importances_cancer(model):\n",
        "#     n_features = x.shape[1]\n",
        "#     plt.barh(range(n_features), model.feature_importances_, align='center')\n",
        "#     plt.yticks(np.arange(n_features), x.keys())\n",
        "#     plt.xlabel(\"Feature importance\")\n",
        "#     plt.ylabel(\"Feature\")\n",
        "# plot_feature_importances_cancer(clf)\n",
        "\n",
        "# def plot_feature_importances(model):\n",
        "#     n_features = len(s.columns)\n",
        "#     feature_indices = s.columns.tolist()\n",
        "#     feature_importances = model.feature_importances_\n",
        "#     sorted_idx = np.argsort(feature_importances)[::-1]\n",
        "#     sorted_feature_importances = feature_importances[sorted_idx]\n",
        "#     sorted_feature_names = feature_indices + ['{}_{}'.format(feature_indices[i].split(' ')[0], i) for i in sorted_idx if i < len(feature_indices)]\n",
        "\n",
        "#     # Ensure the number of feature importances matches the number of features\n",
        "#     sorted_feature_importances = sorted_feature_importances[:n_features]\n",
        "    \n",
        "#     # Create a new figure with a bar plot\n",
        "#     fig = plt.figure(figsize=(12,10))\n",
        "#     plt.subplot(111)\n",
        "#     plt.barh(range(n_features), sorted_feature_importances, height=1, color='b', align='center')\n",
        "#     plt.yticks(np.arange(n_features), sorted_feature_names[:n_features])\n",
        "#     plt.xlabel(\"Feature importances\")\n",
        "#     plt.ylabel(\"Feature\")\n",
        "#     plt.title(\"Feature importances of the model\".format(model.__class__.__name__))\n",
        "#     plt.tight_layout(pad=1.0)\n",
        "# plot_feature_importances(clf)\n",
        "\n",
        "# def plot_feature_importances(model):\n",
        "#     n_features = len(s.columns)\n",
        "#     feature_indices = s.columns.tolist()\n",
        "#     feature_importances = model.feature_importances_\n",
        "\n",
        "#     fig = plt.figure(figsize=(12,14))\n",
        "#     plt.subplot(111)\n",
        "#     plt.barh(range(n_features), feature_importances, height=1, color='b', align='center')\n",
        "#     plt.yticks(np.arange(n_features), feature_indices[:n_features])\n",
        "#     plt.xlabel(\"Feature importances\")\n",
        "#     plt.ylabel(\"Feature\")\n",
        "#     plt.title(\"Feature importances of the model {}\".format(model.__class__.__name__))\n",
        "#     plt.tight_layout(pad=0.5)\n",
        "\n",
        "# plot_feature_importances(clf)\n",
        "\n"
      ]
    },
    {
      "cell_type": "code",
      "execution_count": null,
      "metadata": {},
      "outputs": [],
      "source": [
        "# q = pd.concat([enc_df, scaled_df], axis=1)\n",
        "\n",
        "# y = df[['Hyse', 'Sei', 'Torsk']]\n",
        "\n",
        "# X_train, X_test, y_train, y_test = train_test_split(q, y, random_state=seed)\n",
        "# clf = RandomForestRegressor(n_estimators=100, max_features=15, max_depth=40)\n",
        "# clf.fit(X_train, y_train)\n",
        "# y_pred = clf.predict(X_test)\n",
        "\n",
        "\n",
        "# rmse = np.sqrt(mean_squared_error(y_test, y_pred))\n",
        "# std = y_test.std()\n",
        "# print(type(std), type(rmse))\n",
        "# print(\"RMSE on test set: \", rmse)\n",
        "# print(\"Standard deviation of the target variable: \", std)\n",
        "\n",
        "\n",
        "# r2 = r2_score(y_test, y_pred)\n",
        "# print(\"R2 Score:\", r2)"
      ]
    },
    {
      "cell_type": "code",
      "execution_count": null,
      "metadata": {},
      "outputs": [],
      "source": [
        "# def plot_feature_importances(model):\n",
        "#     n_features = len(q.columns)\n",
        "#     feature_indices = q.columns.tolist()\n",
        "#     feature_importances = model.feature_importances_\n",
        "#     sorted_idx = np.argsort(feature_importances)[::-1]\n",
        "#     sorted_feature_importances = feature_importances[sorted_idx]\n",
        "#     sorted_feature_names = feature_indices + ['{}_{}'.format(feature_indices[i].split(' ')[0], i) for i in sorted_idx if i < len(feature_indices)]\n",
        "\n",
        "#     # Ensure the number of feature importances matches the number of features\n",
        "#     sorted_feature_importances = sorted_feature_importances[:n_features]\n",
        "    \n",
        "#     # Create a new figure with a bar plot\n",
        "#     fig = plt.figure(figsize=(12,10))\n",
        "#     plt.subplot(111)\n",
        "#     plt.barh(range(n_features), sorted_feature_importances, height=1, color='b', align='center')\n",
        "#     plt.yticks(np.arange(n_features), sorted_feature_names[:n_features])\n",
        "#     plt.xlabel(\"Feature importances\")\n",
        "#     plt.ylabel(\"Feature\")\n",
        "#     plt.title(\"Feature importances of the model\".format(model.__class__.__name__))\n",
        "#     plt.tight_layout(pad=1.0)\n",
        "# plot_feature_importances(clf)\n",
        "\n",
        "# Remake this into a reuseable function instead of re-writing it\n",
        "\n",
        "# def plot_feature_importances(model):\n",
        "#     n_features = len(q.columns)\n",
        "#     feature_indices = q.columns.tolist()\n",
        "#     feature_importances = model.feature_importances_\n",
        "\n",
        "#     fig = plt.figure(figsize=(12,14))\n",
        "#     plt.subplot(111)\n",
        "#     plt.barh(range(n_features), feature_importances, height=1, color='b', align='center')\n",
        "#     plt.yticks(np.arange(n_features), feature_indices[:n_features])\n",
        "#     plt.xlabel(\"Feature importances\")\n",
        "#     plt.ylabel(\"Feature\")\n",
        "#     plt.title(\"Feature importances of the model {}\".format(model.__class__.__name__))\n",
        "#     plt.tight_layout(pad=0.5)\n",
        "\n",
        "# plot_feature_importances(clf)"
      ]
    }
  ],
  "metadata": {
    "colab": {
      "provenance": []
    },
    "kernelspec": {
      "display_name": "Python 3",
      "name": "python3"
    },
    "language_info": {
      "codemirror_mode": {
        "name": "ipython",
        "version": 3
      },
      "file_extension": ".py",
      "mimetype": "text/x-python",
      "name": "python",
      "nbconvert_exporter": "python",
      "pygments_lexer": "ipython3",
      "version": "3.12.2"
    }
  },
  "nbformat": 4,
  "nbformat_minor": 0
}
