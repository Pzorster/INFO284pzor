{
 "cells": [
  {
   "cell_type": "markdown",
   "metadata": {},
   "source": [
    "### INFO284 Machine Learning eksamen, vår 2024\n",
    "av ppa007 og ....\n",
    "levert 30.4.2024"
   ]
  },
  {
   "cell_type": "markdown",
   "metadata": {},
   "source": [
    "#### Import og versjonskontroll for relevante biblioteker."
   ]
  },
  {
   "cell_type": "code",
   "execution_count": 64,
   "metadata": {},
   "outputs": [
    {
     "name": "stdout",
     "output_type": "stream",
     "text": [
      "Python version: 3.12.3 (tags/v3.12.3:f6650f9, Apr  9 2024, 14:05:25) [MSC v.1938 64 bit (AMD64)]\n",
      "pandas version: 2.2.1\n",
      "matplotlib version: 3.8.3\n",
      "NumPy version: 1.26.4\n",
      "SciPy version: 1.12.0\n",
      "IPython version: 8.21.0\n",
      "scikit-learn version: 1.4.1.post1\n",
      "seaborn version: 0.13.2\n"
     ]
    }
   ],
   "source": [
    "import sys\n",
    "print(\"Python version: {}\".format(sys.version))\n",
    "import pandas as pd\n",
    "print(\"pandas version: {}\".format(pd.__version__))\n",
    "import matplotlib\n",
    "import matplotlib.pyplot as plt\n",
    "print(\"matplotlib version: {}\".format(matplotlib.__version__))\n",
    "import numpy as np\n",
    "print(\"NumPy version: {}\".format(np.__version__))\n",
    "import scipy as sp\n",
    "print(\"SciPy version: {}\".format(sp.__version__))\n",
    "import IPython\n",
    "print(\"IPython version: {}\".format(IPython.__version__))\n",
    "import sklearn\n",
    "print(\"scikit-learn version: {}\".format(sklearn.__version__))\n",
    "import seaborn as sns\n",
    "print(\"seaborn version: {}\".format(sns.__version__))"
   ]
  },
  {
   "cell_type": "markdown",
   "metadata": {},
   "source": [
    "#### Import av datasettet\n",
    "Filen er kodet i UTF-8, så den vil bare fungere hvis du har riktig versjon av pandas."
   ]
  },
  {
   "cell_type": "code",
   "execution_count": 65,
   "metadata": {},
   "outputs": [
    {
     "name": "stdout",
     "output_type": "stream",
     "text": [
      "Før forbehandling har datasettet 45 kolonner og 305434 rader\n"
     ]
    },
    {
     "data": {
      "text/html": [
       "<div>\n",
       "<style scoped>\n",
       "    .dataframe tbody tr th:only-of-type {\n",
       "        vertical-align: middle;\n",
       "    }\n",
       "\n",
       "    .dataframe tbody tr th {\n",
       "        vertical-align: top;\n",
       "    }\n",
       "\n",
       "    .dataframe thead th {\n",
       "        text-align: right;\n",
       "    }\n",
       "</style>\n",
       "<table border=\"1\" class=\"dataframe\">\n",
       "  <thead>\n",
       "    <tr style=\"text-align: right;\">\n",
       "      <th></th>\n",
       "      <th>Melding ID</th>\n",
       "      <th>Meldingstidspunkt</th>\n",
       "      <th>Meldingsdato</th>\n",
       "      <th>Meldingsklokkeslett</th>\n",
       "      <th>Starttidspunkt</th>\n",
       "      <th>Startdato</th>\n",
       "      <th>Startklokkeslett</th>\n",
       "      <th>Startposisjon bredde</th>\n",
       "      <th>Startposisjon lengde</th>\n",
       "      <th>Hovedområde start (kode)</th>\n",
       "      <th>...</th>\n",
       "      <th>Art - FDIR</th>\n",
       "      <th>Art - gruppe (kode)</th>\n",
       "      <th>Art - gruppe</th>\n",
       "      <th>Rundvekt</th>\n",
       "      <th>Lengdegruppe (kode)</th>\n",
       "      <th>Lengdegruppe</th>\n",
       "      <th>Bruttotonnasje 1969</th>\n",
       "      <th>Bruttotonnasje annen</th>\n",
       "      <th>Bredde</th>\n",
       "      <th>Fartøylengde</th>\n",
       "    </tr>\n",
       "  </thead>\n",
       "  <tbody>\n",
       "    <tr>\n",
       "      <th>0</th>\n",
       "      <td>1497177</td>\n",
       "      <td>01.01.2018</td>\n",
       "      <td>01.01.2018</td>\n",
       "      <td>00:00</td>\n",
       "      <td>31.12.2017</td>\n",
       "      <td>31.12.2017</td>\n",
       "      <td>00:00</td>\n",
       "      <td>-60,35</td>\n",
       "      <td>-46,133</td>\n",
       "      <td>NaN</td>\n",
       "      <td>...</td>\n",
       "      <td>Antarktisk krill</td>\n",
       "      <td>506.0</td>\n",
       "      <td>Antarktisk krill</td>\n",
       "      <td>706714.0</td>\n",
       "      <td>5.0</td>\n",
       "      <td>28 m og over</td>\n",
       "      <td>9432.0</td>\n",
       "      <td>NaN</td>\n",
       "      <td>19,87</td>\n",
       "      <td>133,88</td>\n",
       "    </tr>\n",
       "    <tr>\n",
       "      <th>1</th>\n",
       "      <td>1497178</td>\n",
       "      <td>01.01.2018</td>\n",
       "      <td>01.01.2018</td>\n",
       "      <td>00:00</td>\n",
       "      <td>30.12.2017 23:21</td>\n",
       "      <td>30.12.2017</td>\n",
       "      <td>23:21</td>\n",
       "      <td>74,885</td>\n",
       "      <td>16,048</td>\n",
       "      <td>20.0</td>\n",
       "      <td>...</td>\n",
       "      <td>Hyse</td>\n",
       "      <td>202.0</td>\n",
       "      <td>Hyse</td>\n",
       "      <td>9594.0</td>\n",
       "      <td>5.0</td>\n",
       "      <td>28 m og over</td>\n",
       "      <td>1476.0</td>\n",
       "      <td>NaN</td>\n",
       "      <td>12,6</td>\n",
       "      <td>56,8</td>\n",
       "    </tr>\n",
       "    <tr>\n",
       "      <th>2</th>\n",
       "      <td>1497178</td>\n",
       "      <td>01.01.2018</td>\n",
       "      <td>01.01.2018</td>\n",
       "      <td>00:00</td>\n",
       "      <td>30.12.2017 23:21</td>\n",
       "      <td>30.12.2017</td>\n",
       "      <td>23:21</td>\n",
       "      <td>74,885</td>\n",
       "      <td>16,048</td>\n",
       "      <td>20.0</td>\n",
       "      <td>...</td>\n",
       "      <td>Torsk</td>\n",
       "      <td>201.0</td>\n",
       "      <td>Torsk</td>\n",
       "      <td>8510.0</td>\n",
       "      <td>5.0</td>\n",
       "      <td>28 m og over</td>\n",
       "      <td>1476.0</td>\n",
       "      <td>NaN</td>\n",
       "      <td>12,6</td>\n",
       "      <td>56,8</td>\n",
       "    </tr>\n",
       "    <tr>\n",
       "      <th>3</th>\n",
       "      <td>1497178</td>\n",
       "      <td>01.01.2018</td>\n",
       "      <td>01.01.2018</td>\n",
       "      <td>00:00</td>\n",
       "      <td>30.12.2017 23:21</td>\n",
       "      <td>30.12.2017</td>\n",
       "      <td>23:21</td>\n",
       "      <td>74,885</td>\n",
       "      <td>16,048</td>\n",
       "      <td>20.0</td>\n",
       "      <td>...</td>\n",
       "      <td>Blåkveite</td>\n",
       "      <td>301.0</td>\n",
       "      <td>Blåkveite</td>\n",
       "      <td>196.0</td>\n",
       "      <td>5.0</td>\n",
       "      <td>28 m og over</td>\n",
       "      <td>1476.0</td>\n",
       "      <td>NaN</td>\n",
       "      <td>12,6</td>\n",
       "      <td>56,8</td>\n",
       "    </tr>\n",
       "    <tr>\n",
       "      <th>4</th>\n",
       "      <td>1497178</td>\n",
       "      <td>01.01.2018</td>\n",
       "      <td>01.01.2018</td>\n",
       "      <td>00:00</td>\n",
       "      <td>30.12.2017 23:21</td>\n",
       "      <td>30.12.2017</td>\n",
       "      <td>23:21</td>\n",
       "      <td>74,885</td>\n",
       "      <td>16,048</td>\n",
       "      <td>20.0</td>\n",
       "      <td>...</td>\n",
       "      <td>Sei</td>\n",
       "      <td>203.0</td>\n",
       "      <td>Sei</td>\n",
       "      <td>134.0</td>\n",
       "      <td>5.0</td>\n",
       "      <td>28 m og over</td>\n",
       "      <td>1476.0</td>\n",
       "      <td>NaN</td>\n",
       "      <td>12,6</td>\n",
       "      <td>56,8</td>\n",
       "    </tr>\n",
       "  </tbody>\n",
       "</table>\n",
       "<p>5 rows × 45 columns</p>\n",
       "</div>"
      ],
      "text/plain": [
       "   Melding ID Meldingstidspunkt Meldingsdato Meldingsklokkeslett  \\\n",
       "0     1497177        01.01.2018   01.01.2018               00:00   \n",
       "1     1497178        01.01.2018   01.01.2018               00:00   \n",
       "2     1497178        01.01.2018   01.01.2018               00:00   \n",
       "3     1497178        01.01.2018   01.01.2018               00:00   \n",
       "4     1497178        01.01.2018   01.01.2018               00:00   \n",
       "\n",
       "     Starttidspunkt   Startdato Startklokkeslett Startposisjon bredde  \\\n",
       "0        31.12.2017  31.12.2017            00:00               -60,35   \n",
       "1  30.12.2017 23:21  30.12.2017            23:21               74,885   \n",
       "2  30.12.2017 23:21  30.12.2017            23:21               74,885   \n",
       "3  30.12.2017 23:21  30.12.2017            23:21               74,885   \n",
       "4  30.12.2017 23:21  30.12.2017            23:21               74,885   \n",
       "\n",
       "  Startposisjon lengde  Hovedområde start (kode)  ...        Art - FDIR  \\\n",
       "0              -46,133                       NaN  ...  Antarktisk krill   \n",
       "1               16,048                      20.0  ...              Hyse   \n",
       "2               16,048                      20.0  ...             Torsk   \n",
       "3               16,048                      20.0  ...         Blåkveite   \n",
       "4               16,048                      20.0  ...               Sei   \n",
       "\n",
       "   Art - gruppe (kode)      Art - gruppe  Rundvekt Lengdegruppe (kode)  \\\n",
       "0                506.0  Antarktisk krill  706714.0                 5.0   \n",
       "1                202.0              Hyse    9594.0                 5.0   \n",
       "2                201.0             Torsk    8510.0                 5.0   \n",
       "3                301.0         Blåkveite     196.0                 5.0   \n",
       "4                203.0               Sei     134.0                 5.0   \n",
       "\n",
       "   Lengdegruppe  Bruttotonnasje 1969  Bruttotonnasje annen Bredde Fartøylengde  \n",
       "0  28 m og over               9432.0                   NaN  19,87       133,88  \n",
       "1  28 m og over               1476.0                   NaN   12,6         56,8  \n",
       "2  28 m og over               1476.0                   NaN   12,6         56,8  \n",
       "3  28 m og over               1476.0                   NaN   12,6         56,8  \n",
       "4  28 m og over               1476.0                   NaN   12,6         56,8  \n",
       "\n",
       "[5 rows x 45 columns]"
      ]
     },
     "execution_count": 65,
     "metadata": {},
     "output_type": "execute_result"
    }
   ],
   "source": [
    "filePath = 'elektronisk-rapportering-ers-2018-fangstmelding-dca-simple.csv'\n",
    "df = pd.read_csv(filePath, encoding=\"UTF-8\" , delimiter=\";\")\n",
    "print(f\"Før forbehandling har datasettet {df.shape[1]} kolonner og {df.shape[0]} rader\")\n",
    "df.head(5)"
   ]
  },
  {
   "cell_type": "markdown",
   "metadata": {},
   "source": [
    "#### Valg av mål og forbehandling\n",
    "Våre valgte målvariabler er fangstene av hyse, torsk og sei som kontinuerlige verdier. Dette betyr at det er en kombinasjon av kolonnene \".....\", som indikerer fangede arter, og \"Rundvekt\", som indikerer vekten av fangsten.\n",
    "\n",
    "Først vil vi sette opp et frø som vi vil bruke i testing for å gjøre resultatene mer sammenlignbare på tvers av ulike modeller."
   ]
  },
  {
   "cell_type": "code",
   "execution_count": 66,
   "metadata": {},
   "outputs": [],
   "source": [
    "seed = 32"
   ]
  },
  {
   "cell_type": "markdown",
   "metadata": {},
   "source": [
    "Neste steg er å ekskludere irrelevante kolonner.\n",
    "- Fangstår: Datasettet er fra 2018, men inneholder noen rapporter fra 2017 da de ble rapportert inn etter nyttårsaften. Vi fjerner den fordi den bare inneholder 2 unike verdier, hvor over 99% av dem er bare en av dem."
   ]
  },
  {
   "cell_type": "code",
   "execution_count": 67,
   "metadata": {},
   "outputs": [
    {
     "name": "stdout",
     "output_type": "stream",
     "text": [
      "Fangstår\n",
      "2018    305416\n",
      "2017        18\n",
      "Name: count, dtype: int64\n"
     ]
    }
   ],
   "source": [
    "value_counts = df['Fangstår'].value_counts()\n",
    "print(value_counts)\n",
    "df.drop(columns = ['Fangstår'], inplace= True)"
   ]
  },
  {
   "cell_type": "markdown",
   "metadata": {},
   "source": [
    "- Lengdegruppe (kode), Lengdegruppe, Bruttotonnasje 1969, Bruttotonnasje annen, Bredde, Fartøylengde: Disse kolonnene representerer liggnende informasjon om fangstbåten på forskjellige måter. Utifra det vi ønsker å predikere virker det mest hennsikstmessig å kun beholde bruttotonasje. Men for å gjøre det må vi først bevise likheten mellom de forskjellige variablene.\n",
    "\n",
    "1. Bruttotonnasje 1969 og Bruttotonnasje annen: Når den ene kolonnen er tom har den andre data. Vi slår sammen begge kolonene og fjerner de radene hvor begge kolonnen er tomme.\n",
    "2. Lengdegruppe (kode) og Lengdegruppe er den samme informasjonen.\n",
    "3. Fartøylengde er en mer nyansert versjon av Lengdegruppe.\n",
    "4. Fartøylengde og Bredde har en sterk korelasjon.\n",
    "5. Fartøylengde og Bruttotonnasje har en sterk korelasjon."
   ]
  },
  {
   "cell_type": "code",
   "execution_count": 68,
   "metadata": {},
   "outputs": [
    {
     "name": "stdout",
     "output_type": "stream",
     "text": [
      "Kun Bruttotonnasje 1969 rader har verdi: 227689\n",
      "Kun Bruttotonnasje annen rader har verdi: 68458\n",
      "Begge kolonner har nan verdi: 2971\n",
      "(305434, 43)\n",
      "(302463, 43)\n"
     ]
    }
   ],
   "source": [
    "b_nan = df['Bruttotonnasje 1969'].notnull() & df['Bruttotonnasje annen'].isnull()\n",
    "a_nan = df['Bruttotonnasje annen'].notnull() & df['Bruttotonnasje 1969'].isnull()\n",
    "both_nan = df['Bruttotonnasje 1969'].isnull() & df['Bruttotonnasje annen'].isnull()\n",
    "\n",
    "print(f\"\"\"Kun Bruttotonnasje 1969 rader har verdi: {b_nan.sum()}\n",
    "Kun Bruttotonnasje annen rader har verdi: {a_nan.sum()}\n",
    "Begge kolonner har nan verdi: {both_nan.sum()}\"\"\")\n",
    "\n",
    "df['Bruttotonnasje'] = df['Bruttotonnasje annen'].combine_first(df['Bruttotonnasje 1969'])\n",
    "df.drop(columns=['Bruttotonnasje annen', \"Bruttotonnasje 1969\"], inplace=True)\n",
    "df = df.dropna(subset=['Bruttotonnasje'])"
   ]
  },
  {
   "cell_type": "code",
   "execution_count": 88,
   "metadata": {},
   "outputs": [
    {
     "name": "stdout",
     "output_type": "stream",
     "text": [
      "Lengdegruppe         15-20,99 m  21-27,99 m  28 m og over\n",
      "Lengdegruppe (kode)                                      \n",
      "3.0                       35893           0             0\n",
      "4.0                           0       55436             0\n",
      "5.0                           0           0        211134\n"
     ]
    }
   ],
   "source": [
    "value_counts = df.groupby(['Lengdegruppe (kode)', 'Lengdegruppe']).size().unstack(fill_value=0)\n",
    "print(value_counts)"
   ]
  },
  {
   "cell_type": "code",
   "execution_count": 83,
   "metadata": {},
   "outputs": [],
   "source": [
    "df['Fartøylengde'] = df['Fartøylengde'].str.replace(',', '.').astype(float)\n",
    "df['Bredde'] = df['Bredde'].str.replace(',', '.').astype(float)"
   ]
  },
  {
   "cell_type": "code",
   "execution_count": 84,
   "metadata": {},
   "outputs": [
    {
     "name": "stdout",
     "output_type": "stream",
     "text": [
      "                min     max\n",
      "Lengdegruppe               \n",
      "15-20,99 m    15.01   20.99\n",
      "21-27,99 m    21.07   27.99\n",
      "28 m og over  28.10  133.88\n"
     ]
    }
   ],
   "source": [
    "min_max_values = df.groupby('Lengdegruppe')['Fartøylengde'].agg(['min', 'max'])\n",
    "print(min_max_values)"
   ]
  },
  {
   "cell_type": "code",
   "execution_count": 85,
   "metadata": {},
   "outputs": [
    {
     "name": "stdout",
     "output_type": "stream",
     "text": [
      "Correlation coefficient: 0.9444557211700517\n"
     ]
    },
    {
     "data": {
      "image/png": "[encoded data removed]",
      "text/plain": [
       "<Figure size 640x480 with 1 Axes>"
      ]
     },
     "metadata": {},
     "output_type": "display_data"
    }
   ],
   "source": [
    "correlation = df['Fartøylengde'].corr(df['Bredde'])\n",
    "print(\"Correlation coefficient:\", correlation)\n",
    "\n",
    "# Scatter plot of length vs. width\n",
    "plt.scatter(df['Fartøylengde'], df['Bredde'])\n",
    "plt.xlabel('Length')\n",
    "plt.ylabel('Width')\n",
    "plt.title('Scatter Plot of Boat Length vs. Width')\n",
    "plt.show()"
   ]
  },
  {
   "cell_type": "code",
   "execution_count": 87,
   "metadata": {},
   "outputs": [
    {
     "name": "stdout",
     "output_type": "stream",
     "text": [
      "Correlation coefficient: 0.9237180814592622\n"
     ]
    },
    {
     "data": {
      "image/png": "[encoded data removed]",
      "text/plain": [
       "<Figure size 640x480 with 1 Axes>"
      ]
     },
     "metadata": {},
     "output_type": "display_data"
    }
   ],
   "source": [
    "correlation = df['Fartøylengde'].corr(df['Bruttotonnasje'])\n",
    "print(\"Correlation coefficient:\", correlation)\n",
    "\n",
    "# Scatter plot of length vs. width\n",
    "plt.scatter(df['Fartøylengde'], df['Bruttotonnasje'])\n",
    "plt.xlabel('Length')\n",
    "plt.ylabel('Bruttotonnasje')\n",
    "plt.title('Scatter Plot of Length vs. Bruttotonnasje')\n",
    "plt.show()"
   ]
  },
  {
   "cell_type": "code",
   "execution_count": 89,
   "metadata": {},
   "outputs": [
    {
     "name": "stdout",
     "output_type": "stream",
     "text": [
      "Datasettet har nå 39 kolonner og 302463 rader\n"
     ]
    },
    {
     "data": {
      "text/html": [
       "<div>\n",
       "<style scoped>\n",
       "    .dataframe tbody tr th:only-of-type {\n",
       "        vertical-align: middle;\n",
       "    }\n",
       "\n",
       "    .dataframe tbody tr th {\n",
       "        vertical-align: top;\n",
       "    }\n",
       "\n",
       "    .dataframe thead th {\n",
       "        text-align: right;\n",
       "    }\n",
       "</style>\n",
       "<table border=\"1\" class=\"dataframe\">\n",
       "  <thead>\n",
       "    <tr style=\"text-align: right;\">\n",
       "      <th></th>\n",
       "      <th>Melding ID</th>\n",
       "      <th>Meldingstidspunkt</th>\n",
       "      <th>Meldingsdato</th>\n",
       "      <th>Meldingsklokkeslett</th>\n",
       "      <th>Starttidspunkt</th>\n",
       "      <th>Startdato</th>\n",
       "      <th>Startklokkeslett</th>\n",
       "      <th>Startposisjon bredde</th>\n",
       "      <th>Startposisjon lengde</th>\n",
       "      <th>Hovedområde start (kode)</th>\n",
       "      <th>...</th>\n",
       "      <th>Hovedart FAO</th>\n",
       "      <th>Hovedart - FDIR (kode)</th>\n",
       "      <th>Art FAO (kode)</th>\n",
       "      <th>Art FAO</th>\n",
       "      <th>Art - FDIR (kode)</th>\n",
       "      <th>Art - FDIR</th>\n",
       "      <th>Art - gruppe (kode)</th>\n",
       "      <th>Art - gruppe</th>\n",
       "      <th>Rundvekt</th>\n",
       "      <th>Bruttotonnasje</th>\n",
       "    </tr>\n",
       "  </thead>\n",
       "  <tbody>\n",
       "    <tr>\n",
       "      <th>0</th>\n",
       "      <td>1497177</td>\n",
       "      <td>01.01.2018</td>\n",
       "      <td>01.01.2018</td>\n",
       "      <td>00:00</td>\n",
       "      <td>31.12.2017</td>\n",
       "      <td>31.12.2017</td>\n",
       "      <td>00:00</td>\n",
       "      <td>-60,35</td>\n",
       "      <td>-46,133</td>\n",
       "      <td>NaN</td>\n",
       "      <td>...</td>\n",
       "      <td>Antarktisk krill</td>\n",
       "      <td>2513.0</td>\n",
       "      <td>KRI</td>\n",
       "      <td>Antarktisk krill</td>\n",
       "      <td>2513.0</td>\n",
       "      <td>Antarktisk krill</td>\n",
       "      <td>506.0</td>\n",
       "      <td>Antarktisk krill</td>\n",
       "      <td>706714.0</td>\n",
       "      <td>9432.0</td>\n",
       "    </tr>\n",
       "    <tr>\n",
       "      <th>1</th>\n",
       "      <td>1497178</td>\n",
       "      <td>01.01.2018</td>\n",
       "      <td>01.01.2018</td>\n",
       "      <td>00:00</td>\n",
       "      <td>30.12.2017 23:21</td>\n",
       "      <td>30.12.2017</td>\n",
       "      <td>23:21</td>\n",
       "      <td>74,885</td>\n",
       "      <td>16,048</td>\n",
       "      <td>20.0</td>\n",
       "      <td>...</td>\n",
       "      <td>Hyse</td>\n",
       "      <td>1027.0</td>\n",
       "      <td>HAD</td>\n",
       "      <td>Hyse</td>\n",
       "      <td>1027.0</td>\n",
       "      <td>Hyse</td>\n",
       "      <td>202.0</td>\n",
       "      <td>Hyse</td>\n",
       "      <td>9594.0</td>\n",
       "      <td>1476.0</td>\n",
       "    </tr>\n",
       "    <tr>\n",
       "      <th>2</th>\n",
       "      <td>1497178</td>\n",
       "      <td>01.01.2018</td>\n",
       "      <td>01.01.2018</td>\n",
       "      <td>00:00</td>\n",
       "      <td>30.12.2017 23:21</td>\n",
       "      <td>30.12.2017</td>\n",
       "      <td>23:21</td>\n",
       "      <td>74,885</td>\n",
       "      <td>16,048</td>\n",
       "      <td>20.0</td>\n",
       "      <td>...</td>\n",
       "      <td>Hyse</td>\n",
       "      <td>1027.0</td>\n",
       "      <td>COD</td>\n",
       "      <td>Torsk</td>\n",
       "      <td>1022.0</td>\n",
       "      <td>Torsk</td>\n",
       "      <td>201.0</td>\n",
       "      <td>Torsk</td>\n",
       "      <td>8510.0</td>\n",
       "      <td>1476.0</td>\n",
       "    </tr>\n",
       "    <tr>\n",
       "      <th>3</th>\n",
       "      <td>1497178</td>\n",
       "      <td>01.01.2018</td>\n",
       "      <td>01.01.2018</td>\n",
       "      <td>00:00</td>\n",
       "      <td>30.12.2017 23:21</td>\n",
       "      <td>30.12.2017</td>\n",
       "      <td>23:21</td>\n",
       "      <td>74,885</td>\n",
       "      <td>16,048</td>\n",
       "      <td>20.0</td>\n",
       "      <td>...</td>\n",
       "      <td>Hyse</td>\n",
       "      <td>1027.0</td>\n",
       "      <td>GHL</td>\n",
       "      <td>Blåkveite</td>\n",
       "      <td>2313.0</td>\n",
       "      <td>Blåkveite</td>\n",
       "      <td>301.0</td>\n",
       "      <td>Blåkveite</td>\n",
       "      <td>196.0</td>\n",
       "      <td>1476.0</td>\n",
       "    </tr>\n",
       "    <tr>\n",
       "      <th>4</th>\n",
       "      <td>1497178</td>\n",
       "      <td>01.01.2018</td>\n",
       "      <td>01.01.2018</td>\n",
       "      <td>00:00</td>\n",
       "      <td>30.12.2017 23:21</td>\n",
       "      <td>30.12.2017</td>\n",
       "      <td>23:21</td>\n",
       "      <td>74,885</td>\n",
       "      <td>16,048</td>\n",
       "      <td>20.0</td>\n",
       "      <td>...</td>\n",
       "      <td>Hyse</td>\n",
       "      <td>1027.0</td>\n",
       "      <td>POK</td>\n",
       "      <td>Sei</td>\n",
       "      <td>1032.0</td>\n",
       "      <td>Sei</td>\n",
       "      <td>203.0</td>\n",
       "      <td>Sei</td>\n",
       "      <td>134.0</td>\n",
       "      <td>1476.0</td>\n",
       "    </tr>\n",
       "  </tbody>\n",
       "</table>\n",
       "<p>5 rows × 39 columns</p>\n",
       "</div>"
      ],
      "text/plain": [
       "   Melding ID Meldingstidspunkt Meldingsdato Meldingsklokkeslett  \\\n",
       "0     1497177        01.01.2018   01.01.2018               00:00   \n",
       "1     1497178        01.01.2018   01.01.2018               00:00   \n",
       "2     1497178        01.01.2018   01.01.2018               00:00   \n",
       "3     1497178        01.01.2018   01.01.2018               00:00   \n",
       "4     1497178        01.01.2018   01.01.2018               00:00   \n",
       "\n",
       "     Starttidspunkt   Startdato Startklokkeslett Startposisjon bredde  \\\n",
       "0        31.12.2017  31.12.2017            00:00               -60,35   \n",
       "1  30.12.2017 23:21  30.12.2017            23:21               74,885   \n",
       "2  30.12.2017 23:21  30.12.2017            23:21               74,885   \n",
       "3  30.12.2017 23:21  30.12.2017            23:21               74,885   \n",
       "4  30.12.2017 23:21  30.12.2017            23:21               74,885   \n",
       "\n",
       "  Startposisjon lengde  Hovedområde start (kode)  ...      Hovedart FAO  \\\n",
       "0              -46,133                       NaN  ...  Antarktisk krill   \n",
       "1               16,048                      20.0  ...              Hyse   \n",
       "2               16,048                      20.0  ...              Hyse   \n",
       "3               16,048                      20.0  ...              Hyse   \n",
       "4               16,048                      20.0  ...              Hyse   \n",
       "\n",
       "   Hovedart - FDIR (kode)  Art FAO (kode)           Art FAO Art - FDIR (kode)  \\\n",
       "0                  2513.0             KRI  Antarktisk krill            2513.0   \n",
       "1                  1027.0             HAD              Hyse            1027.0   \n",
       "2                  1027.0             COD             Torsk            1022.0   \n",
       "3                  1027.0             GHL         Blåkveite            2313.0   \n",
       "4                  1027.0             POK               Sei            1032.0   \n",
       "\n",
       "         Art - FDIR  Art - gruppe (kode)      Art - gruppe  Rundvekt  \\\n",
       "0  Antarktisk krill                506.0  Antarktisk krill  706714.0   \n",
       "1              Hyse                202.0              Hyse    9594.0   \n",
       "2             Torsk                201.0             Torsk    8510.0   \n",
       "3         Blåkveite                301.0         Blåkveite     196.0   \n",
       "4               Sei                203.0               Sei     134.0   \n",
       "\n",
       "   Bruttotonnasje  \n",
       "0          9432.0  \n",
       "1          1476.0  \n",
       "2          1476.0  \n",
       "3          1476.0  \n",
       "4          1476.0  \n",
       "\n",
       "[5 rows x 39 columns]"
      ]
     },
     "execution_count": 89,
     "metadata": {},
     "output_type": "execute_result"
    }
   ],
   "source": [
    "df.drop(columns=[\"Lengdegruppe (kode)\", \"Lengdegruppe\", \"Bredde\", \"Fartøylengde\"], inplace=True)\n",
    "print(f\"Datasettet har nå {df.shape[1]} kolonner og {df.shape[0]} rader\")\n",
    "df.head(5)"
   ]
  },
  {
   "cell_type": "markdown",
   "metadata": {},
   "source": [
    "- ?????"
   ]
  }
 ],
 "metadata": {
  "kernelspec": {
   "display_name": ".venv",
   "language": "python",
   "name": "python3"
  },
  "language_info": {
   "codemirror_mode": {
    "name": "ipython",
    "version": 3
   },
   "file_extension": ".py",
   "mimetype": "text/x-python",
   "name": "python",
   "nbconvert_exporter": "python",
   "pygments_lexer": "ipython3",
   "version": "3.12.3"
  }
 },
 "nbformat": 4,
 "nbformat_minor": 2
}
