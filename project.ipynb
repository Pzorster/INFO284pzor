{
  "cells": [
    {
      "cell_type": "markdown",
      "metadata": {
        "id": "AiKnE8nB5vGM"
      },
      "source": [
        "### INFO284 Machine Learning Exam, spring 2024"
      ]
    },
    {
      "cell_type": "markdown",
      "metadata": {
        "id": "m9Bv9uf39YK_"
      },
      "source": [
        "#### Importing and versioncontrol for relevant libraries"
      ]
    },
    {
      "cell_type": "code",
      "execution_count": 11,
      "metadata": {
        "colab": {
          "base_uri": "https://localhost:8080/"
        },
        "id": "Vi0O1bxI9KEG",
        "outputId": "34b6ddad-ba8d-4810-efd0-c55602412e69"
      },
      "outputs": [
        {
          "name": "stdout",
          "output_type": "stream",
          "text": [
            "Python version: 3.10.11 (tags/v3.10.11:7d4cc5a, Apr  5 2023, 00:38:17) [MSC v.1929 64 bit (AMD64)]\n",
            "pandas version: 2.1.1\n",
            "matplotlib version: 3.7.2\n",
            "NumPy version: 1.25.2\n",
            "SciPy version: 1.11.2\n",
            "IPython version: 8.12.0\n",
            "scikit-learn version: 1.3.1\n"
          ]
        }
      ],
      "source": [
        "import sys\n",
        "print(\"Python version: {}\".format(sys.version))\n",
        "import pandas as pd\n",
        "print(\"pandas version: {}\".format(pd.__version__))\n",
        "import matplotlib\n",
        "print(\"matplotlib version: {}\".format(matplotlib.__version__))\n",
        "import numpy as np\n",
        "print(\"NumPy version: {}\".format(np.__version__))\n",
        "import scipy as sp\n",
        "print(\"SciPy version: {}\".format(sp.__version__))\n",
        "import IPython\n",
        "print(\"IPython version: {}\".format(IPython.__version__))\n",
        "import sklearn\n",
        "print(\"scikit-learn version: {}\".format(sklearn.__version__))"
      ]
    },
    {
      "cell_type": "code",
      "execution_count": 12,
      "metadata": {
        "colab": {
          "base_uri": "https://localhost:8080/",
          "height": 269
        },
        "id": "dHNDvOovwmBw",
        "outputId": "993d640c-7f2d-442f-ee03-7bbb9e05380d"
      },
      "outputs": [],
      "source": [
        "import pandas as pd\n",
        "filePath = 'elektronisk-rapportering-ers-2018-fangstmelding-dca-simple.csv'\n",
        "#keep in mind that the file is encoded in UTF-8, so it will only work if you have the correct version of pandas.\n",
        "df = pd.read_csv(filePath, encoding=\"UTF-8\" , delimiter=\";\")\n"
      ]
    },
    {
      "cell_type": "code",
      "execution_count": 13,
      "metadata": {},
      "outputs": [],
      "source": [
        "# Using the same seed for testing purposes makes the results more comparable\n",
        "seed = 32"
      ]
    },
    {
      "cell_type": "code",
      "execution_count": 14,
      "metadata": {},
      "outputs": [],
      "source": [
        "# Excluding irrelevant columns\n",
        "\n",
        "# Fangstår has only 2 unique values\n",
        "df.drop(columns = ['Fangstår'], inplace= True)\n",
        "\n",
        "# Lengdegruppe (kode), Lengdegruppe, Bruttotonnasje 1969, Bruttotonnasje annen, Bredde, Fartøylengde all seem to be speaking of the boat doing the catching, with few unique values in each column.\n",
        "# One of them should be kept as a feature, the rest discarded. We would suggest the most relevant to be Bruttotonasje, which speaks to how much cargo space there is.\n",
        "# \"Bruttotonnasje 1969\" and \"Bruttotonnasje annen\" seem to have nan where the other one has a value, so first we will collapse them into one.\n",
        "df['Bruttotonnasje'] = df['Bruttotonnasje annen'].combine_first(df['Bruttotonnasje 1969'])\n",
        "df.drop(columns=['Bruttotonnasje annen', \"Bruttotonnasje 1969\",\"Lengdegruppe (kode)\", \"Lengdegruppe\", \"Bredde\", \"Fartøylengde\"], inplace=True)\n",
        "\n",
        "# All columns (kode) in them are cateogrical code representations of another column. For human-readability and to avoid mistaking the code for a continuous value we will remove them.\n",
        "df.drop(columns=[\"Hovedområde start (kode)\", \"Lokasjon start (kode)\", \"Hovedområde stopp (kode)\", \"Lokasjon stopp (kode)\", \"Redskap FAO (kode)\", \"Redskap FDIR (kode)\", \"Hovedart FAO (kode)\", \"Hovedart - FDIR (kode)\", \"Art FAO (kode)\", \"Art - FDIR (kode)\", \"Art - gruppe (kode)\", ], inplace = True)\n",
        "\n",
        "# In both the \"Redskap\" and \"Art\" columns you have FAO and FDIR abbriviations. FAO = Food and Agriculture Organization of the United Nations and FDIR = Fiskeridirektoratet\n",
        "# Due to \"Hovedart\" onyl having FAO uncoded we will stick to FAO. For the same reason we will remove \"Art - gruppe\"\n",
        "df.drop(columns=[\"Art - gruppe\", \"Art - FDIR\", \"Redskap FDIR\"], inplace=True)\n",
        "\n",
        "# While time of day and date might be relevant we don't need all of them and we don't need to know when it was reported in. For now we will leave start/end date and time.\n",
        "df.drop(columns=[\"Meldingstidspunkt\", \"Meldingsdato\", \"Meldingsklokkeslett\", \"Starttidspunkt\", \"Stopptidspunkt\"], inplace=True)\n",
        "\n",
        "# The areas where they start and stop have 6 columns. A pair of coordiantes and name of area x2. Since we prefer the continuous features and coordinates=name of place we are removing the name.\n",
        "df.drop(columns=[\"Hovedområde start\", \"Hovedområde stopp\"], inplace=True)"
      ]
    },
    {
      "cell_type": "code",
      "execution_count": 15,
      "metadata": {},
      "outputs": [],
      "source": [
        "# After having checked to see what % of each column had nan values we decided just to drop them as at worst they were around 1.6 %\n",
        "df = df.dropna()"
      ]
    },
    {
      "cell_type": "code",
      "execution_count": 16,
      "metadata": {
        "id": "uZR0MnPgK8lh"
      },
      "outputs": [],
      "source": [
        "# Focusing down on the species we want to investigate\n",
        "# More might be added later as categories or ranges\n",
        "\n",
        "df = df[df['Art FAO'].isin(['Torsk', 'Sei', 'Hyse'])]"
      ]
    },
    {
      "cell_type": "code",
      "execution_count": 17,
      "metadata": {},
      "outputs": [],
      "source": [
        "# Removing parts of columns\n",
        "\n",
        "# From varighet we remove anyting above 400 as according to lecturer that is in the high range of how long you would be fishing in a session.\n",
        "# So we will consider them outliers or multiple sessions reported as one and exclude them for now.\n",
        "\n",
        "df = df[df['Varighet'] <= 400]\n",
        "\n",
        "# Maybe remove some outliers from \"Trekkavstand\". Above 50000 the frequency gets 100 instances per 5000 length.\n",
        "# Just doing it for now, unsure of necessity\n",
        "df = df[df['Trekkavstand'] <= 50000]\n",
        "\n",
        "#correlation matrix\n",
        "#chi square matrix\n",
        "#r2 value accuracy\n",
        "#Mlp\n",
        "#deep learning pytorch\n",
        "#scaling the data\n",
        "#decicion treees - distribution - scaled data = good"
      ]
    },
    {
      "cell_type": "code",
      "execution_count": 18,
      "metadata": {},
      "outputs": [],
      "source": [
        "# Manipulating columns\n",
        "\n",
        "# The coordinates are strings, here I'm changing them to int so they're easier to use.\n",
        "# Later we might potentially change them in a different way.\n",
        "df['Startposisjon bredde'] = df['Startposisjon bredde'].str.replace(',', '').astype(int)\n",
        "df['Startposisjon lengde'] = df['Startposisjon lengde'].str.replace(',', '').astype(int)\n",
        "df['Stopposisjon bredde'] = df['Stopposisjon bredde'].str.replace(',', '').astype(int)\n",
        "df['Stopposisjon lengde'] = df['Stopposisjon lengde'].str.replace(',', '').astype(int)\n",
        "\n",
        "# Date/time could potentially be changed to month/hour?\n",
        "# df['Startmåned'] = df['Startdato'].astype(str).str[3:5]\n",
        "# df['Starttime'] = df['Startklokkeslett'].astype(str).str[3:5]\n",
        "# df['Stoppmåned'] = df['Stoppdato'].astype(str).str[3:5]\n",
        "# df['Stopptime'] = df['Stoppklokkeslett'].astype(str).str[3:5]\n",
        "# df.drop(columns=['Startdato', \"Startklokkeslett\", \"Stoppdato\", \"Stoppklokkeslett\"], inplace=True)\n",
        "\n",
        "# Many of the sea depth notations are positiv, which doesn't make sense.\n",
        "# But the amount of them in relation to number of entries means it can't be discounted as an error\n",
        "# In the lecture on fisheries it was mentioned that a lot fo these are inputed manually\n",
        "# And that most of these non-sensical sea depths are actually correct, just lacking a minus.\n",
        "# Therefore we are simply flipping all the positive sea depth into negatives.\n",
        "df['Havdybde start'] = -df['Havdybde start'].abs()\n",
        "df['Havdybde stopp'] = -df['Havdybde stopp'].abs()"
      ]
    },
    {
      "cell_type": "code",
      "execution_count": 19,
      "metadata": {},
      "outputs": [
        {
          "name": "stdout",
          "output_type": "stream",
          "text": [
            "After pre-processing the dataset has 20 columns and 51083 rows\n"
          ]
        }
      ],
      "source": [
        "# Pivoting table\n",
        "\n",
        "# Pivoting table so rows that are information about the same session are put together\n",
        "df = df.pivot_table(index=['Melding ID', 'Startdato', 'Startklokkeslett', 'Startposisjon bredde', 'Startposisjon lengde', 'Havdybde start', 'Stoppdato', 'Stoppklokkeslett', 'Varighet', 'Stopposisjon bredde', 'Stopposisjon lengde', 'Havdybde stopp', 'Trekkavstand', 'Redskap FAO', 'Hovedart FAO','Bruttotonnasje'], columns='Art FAO', values='Rundvekt', aggfunc='sum').reset_index()\n",
        "\n",
        "# This creates a lot of nan values which we fill with 0\n",
        "df = df.fillna(0)\n",
        "\n",
        "# We add another column to indicate which was the dominant catch during that session\n",
        "# Might be removed or deemed redunadant later on as it has a 86% match to \"Hovedfangst FAO\"\n",
        "df['Hovedfangst'] = df[['Hyse', 'Sei', 'Torsk']].idxmax(axis=1)\n",
        "\n",
        "print(f\"After pre-processing the dataset has {df.shape[1]} columns and {df.shape[0]} rows\")"
      ]
    },
    {
      "cell_type": "code",
      "execution_count": 20,
      "metadata": {},
      "outputs": [],
      "source": [
        "#counting number of rows\n",
        "# print(\"Number of rows: \", df.shape[0])\n",
        "#realising that i havent dropped any rows since the number of rows are still the same\n",
        "# df.dropna(inplace=True)\n",
        "# print(\"New number of rows: \", df.shape[0])\n",
        "#actually gonna drop all rows other than torsk, sei, hyse. Since we are only interested in these three species. The other are underrepresented and not relevant for our analysis.\n",
        "# df = df[df['Art - gruppe'].isin(['Torsk', 'Sei', 'Hyse', 'Annen flatfisk, bunnfisk og dypvannsfisk'])]\n",
        "# print(\"Only focusing on torsk sei hyse and Annen flatfisk, bunnfisk og dypvannsfisk: \", df.shape[0])\n",
        "# df.head()\n",
        "#so now we are working with %{df}.\n"
      ]
    },
    {
      "cell_type": "code",
      "execution_count": 21,
      "metadata": {},
      "outputs": [],
      "source": [
        "#presenting the count of the different species in the dataset with a barplot\n",
        "# sns.countplot(x='Art - gruppe', data=df)\n",
        "# plt.title('Count of species')\n",
        "# plt.show()"
      ]
    },
    {
      "cell_type": "code",
      "execution_count": 22,
      "metadata": {},
      "outputs": [
        {
          "ename": "ValueError",
          "evalue": "Could not interpret value `Art - gruppe` for `hue`. An entry with this name does not appear in `data`.",
          "output_type": "error",
          "traceback": [
            "\u001b[1;31m---------------------------------------------------------------------------\u001b[0m",
            "\u001b[1;31mValueError\u001b[0m                                Traceback (most recent call last)",
            "Cell \u001b[1;32mIn[22], line 6\u001b[0m\n\u001b[0;32m      4\u001b[0m \u001b[38;5;28;01mimport\u001b[39;00m \u001b[38;5;21;01mpandas\u001b[39;00m \u001b[38;5;28;01mas\u001b[39;00m \u001b[38;5;21;01mpd\u001b[39;00m\n\u001b[0;32m      5\u001b[0m \u001b[38;5;28;01mimport\u001b[39;00m \u001b[38;5;21;01mnumpy\u001b[39;00m \u001b[38;5;28;01mas\u001b[39;00m \u001b[38;5;21;01mnp\u001b[39;00m\n\u001b[1;32m----> 6\u001b[0m \u001b[43msns\u001b[49m\u001b[38;5;241;43m.\u001b[39;49m\u001b[43mscatterplot\u001b[49m\u001b[43m(\u001b[49m\u001b[43mx\u001b[49m\u001b[38;5;241;43m=\u001b[39;49m\u001b[38;5;124;43m'\u001b[39;49m\u001b[38;5;124;43mHavdybde start\u001b[39;49m\u001b[38;5;124;43m'\u001b[39;49m\u001b[43m,\u001b[49m\u001b[43m \u001b[49m\u001b[43my\u001b[49m\u001b[38;5;241;43m=\u001b[39;49m\u001b[38;5;124;43m'\u001b[39;49m\u001b[38;5;124;43mHavdybde stopp\u001b[39;49m\u001b[38;5;124;43m'\u001b[39;49m\u001b[43m,\u001b[49m\u001b[43m \u001b[49m\u001b[43mdata\u001b[49m\u001b[38;5;241;43m=\u001b[39;49m\u001b[43mdf\u001b[49m\u001b[43m,\u001b[49m\u001b[43m \u001b[49m\u001b[43mhue\u001b[49m\u001b[38;5;241;43m=\u001b[39;49m\u001b[38;5;124;43m'\u001b[39;49m\u001b[38;5;124;43mArt - gruppe\u001b[39;49m\u001b[38;5;124;43m'\u001b[39;49m\u001b[43m)\u001b[49m\n\u001b[0;32m      7\u001b[0m \u001b[38;5;66;03m#viewing the plot and seeing it is so dense that it is hard to see the differences between the species. Additionally there are a lot of species over 0 which does not make sense when fishing.\u001b[39;00m\n\u001b[0;32m      8\u001b[0m \n\u001b[0;32m      9\u001b[0m \u001b[38;5;66;03m#maybe we should use a threshold for the depth, since it is not possible to fish at 0 depth?\u001b[39;00m\n\u001b[0;32m     10\u001b[0m \u001b[38;5;66;03m#then we will loose a lot of data points, so maybe there is a way to transform the outliers?\u001b[39;00m\n\u001b[0;32m     11\u001b[0m \u001b[38;5;66;03m#But then again the transformed outliers will be useless since the initial values are not reliable? Are depth feature even reliable?\u001b[39;00m\n\u001b[0;32m     12\u001b[0m \u001b[38;5;66;03m#note: Should probably transform the Art-gruppe to numerical values with one hot encoding.\u001b[39;00m\n",
            "File \u001b[1;32m~\\AppData\\Local\\Packages\\PythonSoftwareFoundation.Python.3.10_qbz5n2kfra8p0\\LocalCache\\local-packages\\Python310\\site-packages\\seaborn\\relational.py:615\u001b[0m, in \u001b[0;36mscatterplot\u001b[1;34m(data, x, y, hue, size, style, palette, hue_order, hue_norm, sizes, size_order, size_norm, markers, style_order, legend, ax, **kwargs)\u001b[0m\n\u001b[0;32m    606\u001b[0m \u001b[38;5;28;01mdef\u001b[39;00m \u001b[38;5;21mscatterplot\u001b[39m(\n\u001b[0;32m    607\u001b[0m     data\u001b[38;5;241m=\u001b[39m\u001b[38;5;28;01mNone\u001b[39;00m, \u001b[38;5;241m*\u001b[39m,\n\u001b[0;32m    608\u001b[0m     x\u001b[38;5;241m=\u001b[39m\u001b[38;5;28;01mNone\u001b[39;00m, y\u001b[38;5;241m=\u001b[39m\u001b[38;5;28;01mNone\u001b[39;00m, hue\u001b[38;5;241m=\u001b[39m\u001b[38;5;28;01mNone\u001b[39;00m, size\u001b[38;5;241m=\u001b[39m\u001b[38;5;28;01mNone\u001b[39;00m, style\u001b[38;5;241m=\u001b[39m\u001b[38;5;28;01mNone\u001b[39;00m,\n\u001b[1;32m   (...)\u001b[0m\n\u001b[0;32m    612\u001b[0m     \u001b[38;5;241m*\u001b[39m\u001b[38;5;241m*\u001b[39mkwargs\n\u001b[0;32m    613\u001b[0m ):\n\u001b[1;32m--> 615\u001b[0m     p \u001b[38;5;241m=\u001b[39m \u001b[43m_ScatterPlotter\u001b[49m\u001b[43m(\u001b[49m\n\u001b[0;32m    616\u001b[0m \u001b[43m        \u001b[49m\u001b[43mdata\u001b[49m\u001b[38;5;241;43m=\u001b[39;49m\u001b[43mdata\u001b[49m\u001b[43m,\u001b[49m\n\u001b[0;32m    617\u001b[0m \u001b[43m        \u001b[49m\u001b[43mvariables\u001b[49m\u001b[38;5;241;43m=\u001b[39;49m\u001b[38;5;28;43mdict\u001b[39;49m\u001b[43m(\u001b[49m\u001b[43mx\u001b[49m\u001b[38;5;241;43m=\u001b[39;49m\u001b[43mx\u001b[49m\u001b[43m,\u001b[49m\u001b[43m \u001b[49m\u001b[43my\u001b[49m\u001b[38;5;241;43m=\u001b[39;49m\u001b[43my\u001b[49m\u001b[43m,\u001b[49m\u001b[43m \u001b[49m\u001b[43mhue\u001b[49m\u001b[38;5;241;43m=\u001b[39;49m\u001b[43mhue\u001b[49m\u001b[43m,\u001b[49m\u001b[43m \u001b[49m\u001b[43msize\u001b[49m\u001b[38;5;241;43m=\u001b[39;49m\u001b[43msize\u001b[49m\u001b[43m,\u001b[49m\u001b[43m \u001b[49m\u001b[43mstyle\u001b[49m\u001b[38;5;241;43m=\u001b[39;49m\u001b[43mstyle\u001b[49m\u001b[43m)\u001b[49m\u001b[43m,\u001b[49m\n\u001b[0;32m    618\u001b[0m \u001b[43m        \u001b[49m\u001b[43mlegend\u001b[49m\u001b[38;5;241;43m=\u001b[39;49m\u001b[43mlegend\u001b[49m\n\u001b[0;32m    619\u001b[0m \u001b[43m    \u001b[49m\u001b[43m)\u001b[49m\n\u001b[0;32m    621\u001b[0m     p\u001b[38;5;241m.\u001b[39mmap_hue(palette\u001b[38;5;241m=\u001b[39mpalette, order\u001b[38;5;241m=\u001b[39mhue_order, norm\u001b[38;5;241m=\u001b[39mhue_norm)\n\u001b[0;32m    622\u001b[0m     p\u001b[38;5;241m.\u001b[39mmap_size(sizes\u001b[38;5;241m=\u001b[39msizes, order\u001b[38;5;241m=\u001b[39msize_order, norm\u001b[38;5;241m=\u001b[39msize_norm)\n",
            "File \u001b[1;32m~\\AppData\\Local\\Packages\\PythonSoftwareFoundation.Python.3.10_qbz5n2kfra8p0\\LocalCache\\local-packages\\Python310\\site-packages\\seaborn\\relational.py:396\u001b[0m, in \u001b[0;36m_ScatterPlotter.__init__\u001b[1;34m(self, data, variables, legend)\u001b[0m\n\u001b[0;32m    387\u001b[0m \u001b[38;5;28;01mdef\u001b[39;00m \u001b[38;5;21m__init__\u001b[39m(\u001b[38;5;28mself\u001b[39m, \u001b[38;5;241m*\u001b[39m, data\u001b[38;5;241m=\u001b[39m\u001b[38;5;28;01mNone\u001b[39;00m, variables\u001b[38;5;241m=\u001b[39m{}, legend\u001b[38;5;241m=\u001b[39m\u001b[38;5;28;01mNone\u001b[39;00m):\n\u001b[0;32m    388\u001b[0m \n\u001b[0;32m    389\u001b[0m     \u001b[38;5;66;03m# TODO this is messy, we want the mapping to be agnostic about\u001b[39;00m\n\u001b[0;32m    390\u001b[0m     \u001b[38;5;66;03m# the kind of plot to draw, but for the time being we need to set\u001b[39;00m\n\u001b[0;32m    391\u001b[0m     \u001b[38;5;66;03m# this information so the SizeMapping can use it\u001b[39;00m\n\u001b[0;32m    392\u001b[0m     \u001b[38;5;28mself\u001b[39m\u001b[38;5;241m.\u001b[39m_default_size_range \u001b[38;5;241m=\u001b[39m (\n\u001b[0;32m    393\u001b[0m         np\u001b[38;5;241m.\u001b[39mr_[\u001b[38;5;241m.5\u001b[39m, \u001b[38;5;241m2\u001b[39m] \u001b[38;5;241m*\u001b[39m np\u001b[38;5;241m.\u001b[39msquare(mpl\u001b[38;5;241m.\u001b[39mrcParams[\u001b[38;5;124m\"\u001b[39m\u001b[38;5;124mlines.markersize\u001b[39m\u001b[38;5;124m\"\u001b[39m])\n\u001b[0;32m    394\u001b[0m     )\n\u001b[1;32m--> 396\u001b[0m     \u001b[38;5;28;43msuper\u001b[39;49m\u001b[43m(\u001b[49m\u001b[43m)\u001b[49m\u001b[38;5;241;43m.\u001b[39;49m\u001b[38;5;21;43m__init__\u001b[39;49m\u001b[43m(\u001b[49m\u001b[43mdata\u001b[49m\u001b[38;5;241;43m=\u001b[39;49m\u001b[43mdata\u001b[49m\u001b[43m,\u001b[49m\u001b[43m \u001b[49m\u001b[43mvariables\u001b[49m\u001b[38;5;241;43m=\u001b[39;49m\u001b[43mvariables\u001b[49m\u001b[43m)\u001b[49m\n\u001b[0;32m    398\u001b[0m     \u001b[38;5;28mself\u001b[39m\u001b[38;5;241m.\u001b[39mlegend \u001b[38;5;241m=\u001b[39m legend\n",
            "File \u001b[1;32m~\\AppData\\Local\\Packages\\PythonSoftwareFoundation.Python.3.10_qbz5n2kfra8p0\\LocalCache\\local-packages\\Python310\\site-packages\\seaborn\\_base.py:634\u001b[0m, in \u001b[0;36mVectorPlotter.__init__\u001b[1;34m(self, data, variables)\u001b[0m\n\u001b[0;32m    629\u001b[0m \u001b[38;5;66;03m# var_ordered is relevant only for categorical axis variables, and may\u001b[39;00m\n\u001b[0;32m    630\u001b[0m \u001b[38;5;66;03m# be better handled by an internal axis information object that tracks\u001b[39;00m\n\u001b[0;32m    631\u001b[0m \u001b[38;5;66;03m# such information and is set up by the scale_* methods. The analogous\u001b[39;00m\n\u001b[0;32m    632\u001b[0m \u001b[38;5;66;03m# information for numeric axes would be information about log scales.\u001b[39;00m\n\u001b[0;32m    633\u001b[0m \u001b[38;5;28mself\u001b[39m\u001b[38;5;241m.\u001b[39m_var_ordered \u001b[38;5;241m=\u001b[39m {\u001b[38;5;124m\"\u001b[39m\u001b[38;5;124mx\u001b[39m\u001b[38;5;124m\"\u001b[39m: \u001b[38;5;28;01mFalse\u001b[39;00m, \u001b[38;5;124m\"\u001b[39m\u001b[38;5;124my\u001b[39m\u001b[38;5;124m\"\u001b[39m: \u001b[38;5;28;01mFalse\u001b[39;00m}  \u001b[38;5;66;03m# alt., used DefaultDict\u001b[39;00m\n\u001b[1;32m--> 634\u001b[0m \u001b[38;5;28;43mself\u001b[39;49m\u001b[38;5;241;43m.\u001b[39;49m\u001b[43massign_variables\u001b[49m\u001b[43m(\u001b[49m\u001b[43mdata\u001b[49m\u001b[43m,\u001b[49m\u001b[43m \u001b[49m\u001b[43mvariables\u001b[49m\u001b[43m)\u001b[49m\n\u001b[0;32m    636\u001b[0m \u001b[38;5;66;03m# TODO Lots of tests assume that these are called to initialize the\u001b[39;00m\n\u001b[0;32m    637\u001b[0m \u001b[38;5;66;03m# mappings to default values on class initialization. I'd prefer to\u001b[39;00m\n\u001b[0;32m    638\u001b[0m \u001b[38;5;66;03m# move away from that and only have a mapping when explicitly called.\u001b[39;00m\n\u001b[0;32m    639\u001b[0m \u001b[38;5;28;01mfor\u001b[39;00m var \u001b[38;5;129;01min\u001b[39;00m [\u001b[38;5;124m\"\u001b[39m\u001b[38;5;124mhue\u001b[39m\u001b[38;5;124m\"\u001b[39m, \u001b[38;5;124m\"\u001b[39m\u001b[38;5;124msize\u001b[39m\u001b[38;5;124m\"\u001b[39m, \u001b[38;5;124m\"\u001b[39m\u001b[38;5;124mstyle\u001b[39m\u001b[38;5;124m\"\u001b[39m]:\n",
            "File \u001b[1;32m~\\AppData\\Local\\Packages\\PythonSoftwareFoundation.Python.3.10_qbz5n2kfra8p0\\LocalCache\\local-packages\\Python310\\site-packages\\seaborn\\_base.py:679\u001b[0m, in \u001b[0;36mVectorPlotter.assign_variables\u001b[1;34m(self, data, variables)\u001b[0m\n\u001b[0;32m    674\u001b[0m \u001b[38;5;28;01melse\u001b[39;00m:\n\u001b[0;32m    675\u001b[0m     \u001b[38;5;66;03m# When dealing with long-form input, use the newer PlotData\u001b[39;00m\n\u001b[0;32m    676\u001b[0m     \u001b[38;5;66;03m# object (internal but introduced for the objects interface)\u001b[39;00m\n\u001b[0;32m    677\u001b[0m     \u001b[38;5;66;03m# to centralize / standardize data consumption logic.\u001b[39;00m\n\u001b[0;32m    678\u001b[0m     \u001b[38;5;28mself\u001b[39m\u001b[38;5;241m.\u001b[39minput_format \u001b[38;5;241m=\u001b[39m \u001b[38;5;124m\"\u001b[39m\u001b[38;5;124mlong\u001b[39m\u001b[38;5;124m\"\u001b[39m\n\u001b[1;32m--> 679\u001b[0m     plot_data \u001b[38;5;241m=\u001b[39m \u001b[43mPlotData\u001b[49m\u001b[43m(\u001b[49m\u001b[43mdata\u001b[49m\u001b[43m,\u001b[49m\u001b[43m \u001b[49m\u001b[43mvariables\u001b[49m\u001b[43m)\u001b[49m\n\u001b[0;32m    680\u001b[0m     frame \u001b[38;5;241m=\u001b[39m plot_data\u001b[38;5;241m.\u001b[39mframe\n\u001b[0;32m    681\u001b[0m     names \u001b[38;5;241m=\u001b[39m plot_data\u001b[38;5;241m.\u001b[39mnames\n",
            "File \u001b[1;32m~\\AppData\\Local\\Packages\\PythonSoftwareFoundation.Python.3.10_qbz5n2kfra8p0\\LocalCache\\local-packages\\Python310\\site-packages\\seaborn\\_core\\data.py:58\u001b[0m, in \u001b[0;36mPlotData.__init__\u001b[1;34m(self, data, variables)\u001b[0m\n\u001b[0;32m     51\u001b[0m \u001b[38;5;28;01mdef\u001b[39;00m \u001b[38;5;21m__init__\u001b[39m(\n\u001b[0;32m     52\u001b[0m     \u001b[38;5;28mself\u001b[39m,\n\u001b[0;32m     53\u001b[0m     data: DataSource,\n\u001b[0;32m     54\u001b[0m     variables: \u001b[38;5;28mdict\u001b[39m[\u001b[38;5;28mstr\u001b[39m, VariableSpec],\n\u001b[0;32m     55\u001b[0m ):\n\u001b[0;32m     57\u001b[0m     data \u001b[38;5;241m=\u001b[39m handle_data_source(data)\n\u001b[1;32m---> 58\u001b[0m     frame, names, ids \u001b[38;5;241m=\u001b[39m \u001b[38;5;28;43mself\u001b[39;49m\u001b[38;5;241;43m.\u001b[39;49m\u001b[43m_assign_variables\u001b[49m\u001b[43m(\u001b[49m\u001b[43mdata\u001b[49m\u001b[43m,\u001b[49m\u001b[43m \u001b[49m\u001b[43mvariables\u001b[49m\u001b[43m)\u001b[49m\n\u001b[0;32m     60\u001b[0m     \u001b[38;5;28mself\u001b[39m\u001b[38;5;241m.\u001b[39mframe \u001b[38;5;241m=\u001b[39m frame\n\u001b[0;32m     61\u001b[0m     \u001b[38;5;28mself\u001b[39m\u001b[38;5;241m.\u001b[39mnames \u001b[38;5;241m=\u001b[39m names\n",
            "File \u001b[1;32m~\\AppData\\Local\\Packages\\PythonSoftwareFoundation.Python.3.10_qbz5n2kfra8p0\\LocalCache\\local-packages\\Python310\\site-packages\\seaborn\\_core\\data.py:232\u001b[0m, in \u001b[0;36mPlotData._assign_variables\u001b[1;34m(self, data, variables)\u001b[0m\n\u001b[0;32m    230\u001b[0m     \u001b[38;5;28;01melse\u001b[39;00m:\n\u001b[0;32m    231\u001b[0m         err \u001b[38;5;241m+\u001b[39m\u001b[38;5;241m=\u001b[39m \u001b[38;5;124m\"\u001b[39m\u001b[38;5;124mAn entry with this name does not appear in `data`.\u001b[39m\u001b[38;5;124m\"\u001b[39m\n\u001b[1;32m--> 232\u001b[0m     \u001b[38;5;28;01mraise\u001b[39;00m \u001b[38;5;167;01mValueError\u001b[39;00m(err)\n\u001b[0;32m    234\u001b[0m \u001b[38;5;28;01melse\u001b[39;00m:\n\u001b[0;32m    235\u001b[0m \n\u001b[0;32m    236\u001b[0m     \u001b[38;5;66;03m# Otherwise, assume the value somehow represents data\u001b[39;00m\n\u001b[0;32m    237\u001b[0m \n\u001b[0;32m    238\u001b[0m     \u001b[38;5;66;03m# Ignore empty data structures\u001b[39;00m\n\u001b[0;32m    239\u001b[0m     \u001b[38;5;28;01mif\u001b[39;00m \u001b[38;5;28misinstance\u001b[39m(val, Sized) \u001b[38;5;129;01mand\u001b[39;00m \u001b[38;5;28mlen\u001b[39m(val) \u001b[38;5;241m==\u001b[39m \u001b[38;5;241m0\u001b[39m:\n",
            "\u001b[1;31mValueError\u001b[0m: Could not interpret value `Art - gruppe` for `hue`. An entry with this name does not appear in `data`."
          ]
        }
      ],
      "source": [
        "#plotting havdybde start and havdybde stopp using seaborn with different color for each species\n",
        "import seaborn as sns\n",
        "import matplotlib.pyplot as plt\n",
        "import pandas as pd\n",
        "import numpy as np\n",
        "sns.scatterplot(x='Havdybde start', y='Havdybde stopp', data=df, hue='Art - gruppe')\n",
        "#viewing the plot and seeing it is so dense that it is hard to see the differences between the species. Additionally there are a lot of species over 0 which does not make sense when fishing.\n",
        "\n",
        "#maybe we should use a threshold for the depth, since it is not possible to fish at 0 depth?\n",
        "#then we will loose a lot of data points, so maybe there is a way to transform the outliers?\n",
        "#But then again the transformed outliers will be useless since the initial values are not reliable? Are depth feature even reliable?\n",
        "#note: Should probably transform the Art-gruppe to numerical values with one hot encoding."
      ]
    },
    {
      "cell_type": "markdown",
      "metadata": {},
      "source": [
        "#### Current thoughts:\n",
        "How will we treat outliers and all above 0 depth?"
      ]
    },
    {
      "cell_type": "code",
      "execution_count": null,
      "metadata": {},
      "outputs": [
        {
          "data": {
            "image/png": "[encoded data removed]",
            "text/plain": [
              "<Figure size 640x480 with 1 Axes>"
            ]
          },
          "metadata": {},
          "output_type": "display_data"
        },
        {
          "data": {
            "text/html": [
              "<div>\n",
              "<style scoped>\n",
              "    .dataframe tbody tr th:only-of-type {\n",
              "        vertical-align: middle;\n",
              "    }\n",
              "\n",
              "    .dataframe tbody tr th {\n",
              "        vertical-align: top;\n",
              "    }\n",
              "\n",
              "    .dataframe thead th {\n",
              "        text-align: right;\n",
              "    }\n",
              "</style>\n",
              "<table border=\"1\" class=\"dataframe\">\n",
              "  <thead>\n",
              "    <tr style=\"text-align: right;\">\n",
              "      <th>Art - gruppe</th>\n",
              "      <th>Melding ID</th>\n",
              "      <th>Meldingsdato</th>\n",
              "      <th>Starttidspunkt</th>\n",
              "      <th>Havdybde start</th>\n",
              "      <th>Havdybde stopp</th>\n",
              "      <th>Hovedområde start</th>\n",
              "      <th>Hovedart FAO</th>\n",
              "      <th>Trekkavstand</th>\n",
              "      <th>Startposisjon bredde</th>\n",
              "      <th>Startposisjon lengde</th>\n",
              "      <th>Redskap FDIR</th>\n",
              "      <th>Annen flatfisk, bunnfisk og dypvannsfisk</th>\n",
              "      <th>Hyse</th>\n",
              "      <th>Sei</th>\n",
              "      <th>Torsk</th>\n",
              "      <th>Dominant Art</th>\n",
              "    </tr>\n",
              "  </thead>\n",
              "  <tbody>\n",
              "    <tr>\n",
              "      <th>0</th>\n",
              "      <td>1497178</td>\n",
              "      <td>01.01.2018</td>\n",
              "      <td>30.12.2017 23:21</td>\n",
              "      <td>-335</td>\n",
              "      <td>-334</td>\n",
              "      <td>Bjørnøya</td>\n",
              "      <td>Hyse</td>\n",
              "      <td>-3970.0</td>\n",
              "      <td>74,885</td>\n",
              "      <td>16,048</td>\n",
              "      <td>Bunntrål</td>\n",
              "      <td>0.0</td>\n",
              "      <td>9594.0</td>\n",
              "      <td>134.0</td>\n",
              "      <td>8510.0</td>\n",
              "      <td>Hyse</td>\n",
              "    </tr>\n",
              "    <tr>\n",
              "      <th>1</th>\n",
              "      <td>1497178</td>\n",
              "      <td>01.01.2018</td>\n",
              "      <td>31.12.2017 05:48</td>\n",
              "      <td>-403</td>\n",
              "      <td>-277</td>\n",
              "      <td>Bjørnøya</td>\n",
              "      <td>Hyse</td>\n",
              "      <td>-11096.0</td>\n",
              "      <td>74,91</td>\n",
              "      <td>15,868</td>\n",
              "      <td>Bunntrål</td>\n",
              "      <td>14.0</td>\n",
              "      <td>9118.0</td>\n",
              "      <td>67.0</td>\n",
              "      <td>6651.0</td>\n",
              "      <td>Hyse</td>\n",
              "    </tr>\n",
              "    <tr>\n",
              "      <th>2</th>\n",
              "      <td>1497178</td>\n",
              "      <td>01.01.2018</td>\n",
              "      <td>31.12.2017 11:34</td>\n",
              "      <td>-346</td>\n",
              "      <td>-496</td>\n",
              "      <td>Bjørnøya</td>\n",
              "      <td>Hyse</td>\n",
              "      <td>-10215.0</td>\n",
              "      <td>74,883</td>\n",
              "      <td>16,056</td>\n",
              "      <td>Bunntrål</td>\n",
              "      <td>0.0</td>\n",
              "      <td>12432.0</td>\n",
              "      <td>68.0</td>\n",
              "      <td>5097.0</td>\n",
              "      <td>Hyse</td>\n",
              "    </tr>\n",
              "    <tr>\n",
              "      <th>3</th>\n",
              "      <td>1497178</td>\n",
              "      <td>01.01.2018</td>\n",
              "      <td>31.12.2017 17:44</td>\n",
              "      <td>-443</td>\n",
              "      <td>-358</td>\n",
              "      <td>Bjørnøya</td>\n",
              "      <td>Torsk</td>\n",
              "      <td>-3214.0</td>\n",
              "      <td>74,931</td>\n",
              "      <td>15,785</td>\n",
              "      <td>Bunntrål</td>\n",
              "      <td>0.0</td>\n",
              "      <td>6758.0</td>\n",
              "      <td>0.0</td>\n",
              "      <td>7022.0</td>\n",
              "      <td>Torsk</td>\n",
              "    </tr>\n",
              "    <tr>\n",
              "      <th>4</th>\n",
              "      <td>1497229</td>\n",
              "      <td>01.01.2018</td>\n",
              "      <td>01.01.2018 10:01</td>\n",
              "      <td>-71</td>\n",
              "      <td>-56</td>\n",
              "      <td>Røstbanken til Malangsgrunnen</td>\n",
              "      <td>Hyse</td>\n",
              "      <td>-1269.0</td>\n",
              "      <td>67,828</td>\n",
              "      <td>12,972</td>\n",
              "      <td>Snurrevad</td>\n",
              "      <td>0.0</td>\n",
              "      <td>4.0</td>\n",
              "      <td>0.0</td>\n",
              "      <td>0.0</td>\n",
              "      <td>Hyse</td>\n",
              "    </tr>\n",
              "  </tbody>\n",
              "</table>\n",
              "</div>"
            ],
            "text/plain": [
              "Art - gruppe  Melding ID Meldingsdato    Starttidspunkt  Havdybde start  \\\n",
              "0                1497178   01.01.2018  30.12.2017 23:21            -335   \n",
              "1                1497178   01.01.2018  31.12.2017 05:48            -403   \n",
              "2                1497178   01.01.2018  31.12.2017 11:34            -346   \n",
              "3                1497178   01.01.2018  31.12.2017 17:44            -443   \n",
              "4                1497229   01.01.2018  01.01.2018 10:01             -71   \n",
              "\n",
              "Art - gruppe  Havdybde stopp              Hovedområde start Hovedart FAO  \\\n",
              "0                       -334                       Bjørnøya         Hyse   \n",
              "1                       -277                       Bjørnøya         Hyse   \n",
              "2                       -496                       Bjørnøya         Hyse   \n",
              "3                       -358                       Bjørnøya        Torsk   \n",
              "4                        -56  Røstbanken til Malangsgrunnen         Hyse   \n",
              "\n",
              "Art - gruppe  Trekkavstand Startposisjon bredde Startposisjon lengde  \\\n",
              "0                  -3970.0               74,885               16,048   \n",
              "1                 -11096.0                74,91               15,868   \n",
              "2                 -10215.0               74,883               16,056   \n",
              "3                  -3214.0               74,931               15,785   \n",
              "4                  -1269.0               67,828               12,972   \n",
              "\n",
              "Art - gruppe Redskap FDIR  Annen flatfisk, bunnfisk og dypvannsfisk     Hyse  \\\n",
              "0                Bunntrål                                       0.0   9594.0   \n",
              "1                Bunntrål                                      14.0   9118.0   \n",
              "2                Bunntrål                                       0.0  12432.0   \n",
              "3                Bunntrål                                       0.0   6758.0   \n",
              "4               Snurrevad                                       0.0      4.0   \n",
              "\n",
              "Art - gruppe    Sei   Torsk Dominant Art  \n",
              "0             134.0  8510.0         Hyse  \n",
              "1              67.0  6651.0         Hyse  \n",
              "2              68.0  5097.0         Hyse  \n",
              "3               0.0  7022.0        Torsk  \n",
              "4               0.0     0.0         Hyse  "
            ]
          },
          "execution_count": 116,
          "metadata": {},
          "output_type": "execute_result"
        }
      ],
      "source": [
        "#plotting depth, it now works correctly with negated integers.\n",
        "sns.scatterplot(x='Havdybde start', y='Havdybde stopp', data=df)\n",
        "plt.title('Depth')\n",
        "plt.show()\n",
        "\n",
        "# Get the name of the category with the max value in the Dominant Art row\n",
        "df['Dominant Art'] = df[['Hyse', 'Sei', 'Torsk']].idxmax(axis=1) # idmax will also return the first occurence of the max value\n",
        "df.head()"
      ]
    },
    {
      "cell_type": "markdown",
      "metadata": {},
      "source": [
        "#### Trying a model"
      ]
    },
    {
      "cell_type": "markdown",
      "metadata": {},
      "source": [
        "##### Predicting what the main intended catch is based on the largest rundvekt values."
      ]
    }
  ],
  "metadata": {
    "colab": {
      "provenance": []
    },
    "kernelspec": {
      "display_name": "Python 3",
      "name": "python3"
    },
    "language_info": {
      "codemirror_mode": {
        "name": "ipython",
        "version": 3
      },
      "file_extension": ".py",
      "mimetype": "text/x-python",
      "name": "python",
      "nbconvert_exporter": "python",
      "pygments_lexer": "ipython3",
      "version": "3.10.11"
    }
  },
  "nbformat": 4,
  "nbformat_minor": 0
}
