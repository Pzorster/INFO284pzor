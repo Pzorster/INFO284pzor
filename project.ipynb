{
  "cells": [
    {
      "cell_type": "markdown",
      "metadata": {
        "id": "AiKnE8nB5vGM"
      },
      "source": [
        "### INFO284 Machine Learning Exam, spring 2024"
      ]
    },
    {
      "cell_type": "markdown",
      "metadata": {
        "id": "m9Bv9uf39YK_"
      },
      "source": [
        "#### Importing and versioncontrol for relevant libraries"
      ]
    },
    {
      "cell_type": "code",
      "execution_count": 1,
      "metadata": {
        "colab": {
          "base_uri": "https://localhost:8080/"
        },
        "id": "Vi0O1bxI9KEG",
        "outputId": "34b6ddad-ba8d-4810-efd0-c55602412e69"
      },
      "outputs": [
        {
          "name": "stdout",
          "output_type": "stream",
          "text": [
            "Python version: 3.10.11 (tags/v3.10.11:7d4cc5a, Apr  5 2023, 00:38:17) [MSC v.1929 64 bit (AMD64)]\n",
            "pandas version: 2.1.1\n",
            "matplotlib version: 3.7.2\n",
            "NumPy version: 1.25.2\n",
            "SciPy version: 1.11.2\n",
            "IPython version: 8.12.0\n",
            "scikit-learn version: 1.3.1\n"
          ]
        }
      ],
      "source": [
        "import sys\n",
        "print(\"Python version: {}\".format(sys.version))\n",
        "import pandas as pd\n",
        "print(\"pandas version: {}\".format(pd.__version__))\n",
        "import matplotlib\n",
        "print(\"matplotlib version: {}\".format(matplotlib.__version__))\n",
        "import numpy as np\n",
        "print(\"NumPy version: {}\".format(np.__version__))\n",
        "import scipy as sp\n",
        "print(\"SciPy version: {}\".format(sp.__version__))\n",
        "import IPython\n",
        "print(\"IPython version: {}\".format(IPython.__version__))\n",
        "import sklearn\n",
        "print(\"scikit-learn version: {}\".format(sklearn.__version__))"
      ]
    },
    {
      "cell_type": "code",
      "execution_count": 2,
      "metadata": {
        "colab": {
          "base_uri": "https://localhost:8080/",
          "height": 269
        },
        "id": "dHNDvOovwmBw",
        "outputId": "993d640c-7f2d-442f-ee03-7bbb9e05380d"
      },
      "outputs": [
        {
          "name": "stdout",
          "output_type": "stream",
          "text": [
            "<class 'pandas.core.frame.DataFrame'>\n",
            "RangeIndex: 305434 entries, 0 to 305433\n",
            "Data columns (total 45 columns):\n",
            " #   Column                    Non-Null Count   Dtype  \n",
            "---  ------                    --------------   -----  \n",
            " 0   Melding ID                305434 non-null  int64  \n",
            " 1   Meldingstidspunkt         305434 non-null  object \n",
            " 2   Meldingsdato              305434 non-null  object \n",
            " 3   Meldingsklokkeslett       305434 non-null  object \n",
            " 4   Starttidspunkt            305434 non-null  object \n",
            " 5   Startdato                 305434 non-null  object \n",
            " 6   Startklokkeslett          305434 non-null  object \n",
            " 7   Startposisjon bredde      305434 non-null  object \n",
            " 8   Startposisjon lengde      305434 non-null  object \n",
            " 9   Hovedområde start (kode)  303433 non-null  float64\n",
            " 10  Hovedområde start         301310 non-null  object \n",
            " 11  Lokasjon start (kode)     303433 non-null  float64\n",
            " 12  Havdybde start            305434 non-null  int64  \n",
            " 13  Stopptidspunkt            305434 non-null  object \n",
            " 14  Stoppdato                 305434 non-null  object \n",
            " 15  Stoppklokkeslett          305434 non-null  object \n",
            " 16  Varighet                  305434 non-null  int64  \n",
            " 17  Fangstår                  305434 non-null  int64  \n",
            " 18  Stopposisjon bredde       305434 non-null  object \n",
            " 19  Stopposisjon lengde       305434 non-null  object \n",
            " 20  Hovedområde stopp (kode)  303472 non-null  float64\n",
            " 21  Hovedområde stopp         301310 non-null  object \n",
            " 22  Lokasjon stopp (kode)     303472 non-null  float64\n",
            " 23  Havdybde stopp            305434 non-null  int64  \n",
            " 24  Trekkavstand              305410 non-null  float64\n",
            " 25  Redskap FAO (kode)        305434 non-null  object \n",
            " 26  Redskap FAO               305246 non-null  object \n",
            " 27  Redskap FDIR (kode)       305246 non-null  float64\n",
            " 28  Redskap FDIR              305246 non-null  object \n",
            " 29  Hovedart FAO (kode)       300456 non-null  object \n",
            " 30  Hovedart FAO              300456 non-null  object \n",
            " 31  Hovedart - FDIR (kode)    300456 non-null  float64\n",
            " 32  Art FAO (kode)            300456 non-null  object \n",
            " 33  Art FAO                   300452 non-null  object \n",
            " 34  Art - FDIR (kode)         300452 non-null  float64\n",
            " 35  Art - FDIR                300452 non-null  object \n",
            " 36  Art - gruppe (kode)       300452 non-null  float64\n",
            " 37  Art - gruppe              300452 non-null  object \n",
            " 38  Rundvekt                  300456 non-null  float64\n",
            " 39  Lengdegruppe (kode)       304750 non-null  float64\n",
            " 40  Lengdegruppe              304750 non-null  object \n",
            " 41  Bruttotonnasje 1969       234005 non-null  float64\n",
            " 42  Bruttotonnasje annen      74774 non-null   float64\n",
            " 43  Bredde                    304750 non-null  object \n",
            " 44  Fartøylengde              305434 non-null  object \n",
            "dtypes: float64(13), int64(5), object(27)\n",
            "memory usage: 104.9+ MB\n"
          ]
        },
        {
          "data": {
            "text/plain": [
              "Melding ID                  305434\n",
              "Meldingstidspunkt           305434\n",
              "Meldingsdato                305434\n",
              "Meldingsklokkeslett         305434\n",
              "Starttidspunkt              305434\n",
              "Startdato                   305434\n",
              "Startklokkeslett            305434\n",
              "Startposisjon bredde        305434\n",
              "Startposisjon lengde        305434\n",
              "Hovedområde start (kode)    303433\n",
              "Hovedområde start           301310\n",
              "Lokasjon start (kode)       303433\n",
              "Havdybde start              305434\n",
              "Stopptidspunkt              305434\n",
              "Stoppdato                   305434\n",
              "Stoppklokkeslett            305434\n",
              "Varighet                    305434\n",
              "Fangstår                    305434\n",
              "Stopposisjon bredde         305434\n",
              "Stopposisjon lengde         305434\n",
              "Hovedområde stopp (kode)    303472\n",
              "Hovedområde stopp           301310\n",
              "Lokasjon stopp (kode)       303472\n",
              "Havdybde stopp              305434\n",
              "Trekkavstand                305410\n",
              "Redskap FAO (kode)          305434\n",
              "Redskap FAO                 305246\n",
              "Redskap FDIR (kode)         305246\n",
              "Redskap FDIR                305246\n",
              "Hovedart FAO (kode)         300456\n",
              "Hovedart FAO                300456\n",
              "Hovedart - FDIR (kode)      300456\n",
              "Art FAO (kode)              300456\n",
              "Art FAO                     300452\n",
              "Art - FDIR (kode)           300452\n",
              "Art - FDIR                  300452\n",
              "Art - gruppe (kode)         300452\n",
              "Art - gruppe                300452\n",
              "Rundvekt                    300456\n",
              "Lengdegruppe (kode)         304750\n",
              "Lengdegruppe                304750\n",
              "Bruttotonnasje 1969         234005\n",
              "Bruttotonnasje annen         74774\n",
              "Bredde                      304750\n",
              "Fartøylengde                305434\n",
              "dtype: int64"
            ]
          },
          "execution_count": 2,
          "metadata": {},
          "output_type": "execute_result"
        }
      ],
      "source": [
        "import pandas as pd\n",
        "filePath = 'elektronisk-rapportering-ers-2018-fangstmelding-dca-simple.csv'\n",
        "#keep in mind that the file is encoded in UTF-8, so it will only work if you have the correct version of pandas.\n",
        "df = pd.read_csv(filePath, encoding=\"UTF-8\" , delimiter=\";\")\n",
        "print(df.isna().sum())\n",
        "df.info()\n",
        "\n",
        "#excluding columns not relevant for our features\n",
        "df = df[['Melding ID','Art - gruppe','Meldingsdato','Starttidspunkt','Havdybde start','Havdybde stopp','Rundvekt', \"Art - FDIR\"]]\n",
        "df.head()\n",
        "#taking note of the coloumns with missing values\n",
        "print(\"Number of rows: \", df.shape[0])\n"
      ]
    },
    {
      "cell_type": "code",
      "execution_count": 3,
      "metadata": {
        "id": "uZR0MnPgK8lh"
      },
      "outputs": [
        {
          "name": "stdout",
          "output_type": "stream",
          "text": [
            "<class 'pandas.core.frame.DataFrame'>\n",
            "Index: 227186 entries, 1 to 305433\n",
            "Data columns (total 9 columns):\n",
            " #   Column               Non-Null Count   Dtype  \n",
            "---  ------               --------------   -----  \n",
            " 0   Art - gruppe         227186 non-null  object \n",
            " 1   Havdybde start       227186 non-null  int64  \n",
            " 2   Havdybde stopp       227186 non-null  int64  \n",
            " 3   Rundvekt             227186 non-null  float64\n",
            " 4   Hovedområde start    227186 non-null  object \n",
            " 5   Hovedområde stopp    227186 non-null  object \n",
            " 6   Bruttotonnasje 1969  227186 non-null  float64\n",
            " 7   Art - FDIR           227186 non-null  object \n",
            " 8   Redskap FDIR         227186 non-null  object \n",
            "dtypes: float64(2), int64(2), object(5)\n",
            "memory usage: 17.3+ MB\n"
          ]
        }
      ],
      "source": [
        "import seaborn as sns\n",
        "import matplotlib.pyplot as plt\n",
        "import pandas as pd\n",
        "import numpy as np\n",
        "\n",
        "# Calculate the percentage of NaNs for each column\n",
        "nanPercentage = df.isna().mean() * 100\n",
        "\n",
        "nanPercentageDf = pd.DataFrame(nanPercentage.values.reshape(1, -1), columns=df.columns)\n",
        "\n",
        "# Plotting the heatmap\n",
        "plt.figure(figsize=(10, 1)) \n",
        "sns.heatmap(nanPercentageDf, annot=True, fmt=\".2f\", cmap=\"viridis\", cbar=True)\n",
        "plt.title(\"Percentage of NaN Values by Column\")\n",
        "plt.yticks([])\n",
        "\n",
        "plt.show()\n",
        "\n",
        "#this is for looking at the nanvalues in the dataset and how much of the dataset is missing of our specific columns. "
      ]
    },
    {
      "cell_type": "code",
      "execution_count": 4,
      "metadata": {},
      "outputs": [
        {
          "data": {
            "text/html": [
              "<div>\n",
              "<style scoped>\n",
              "    .dataframe tbody tr th:only-of-type {\n",
              "        vertical-align: middle;\n",
              "    }\n",
              "\n",
              "    .dataframe tbody tr th {\n",
              "        vertical-align: top;\n",
              "    }\n",
              "\n",
              "    .dataframe thead th {\n",
              "        text-align: right;\n",
              "    }\n",
              "</style>\n",
              "<table border=\"1\" class=\"dataframe\">\n",
              "  <thead>\n",
              "    <tr style=\"text-align: right;\">\n",
              "      <th></th>\n",
              "      <th>Art - gruppe</th>\n",
              "      <th>Havdybde start</th>\n",
              "      <th>Havdybde stopp</th>\n",
              "      <th>Rundvekt</th>\n",
              "      <th>Hovedområde start</th>\n",
              "      <th>Hovedområde stopp</th>\n",
              "      <th>Bruttotonnasje 1969</th>\n",
              "      <th>Art - FDIR</th>\n",
              "      <th>Redskap FDIR</th>\n",
              "    </tr>\n",
              "  </thead>\n",
              "  <tbody>\n",
              "    <tr>\n",
              "      <th>1</th>\n",
              "      <td>Hyse</td>\n",
              "      <td>-335</td>\n",
              "      <td>-334</td>\n",
              "      <td>9594.0</td>\n",
              "      <td>Bjørnøya</td>\n",
              "      <td>Bjørnøya</td>\n",
              "      <td>1476.0</td>\n",
              "      <td>Hyse</td>\n",
              "      <td>Bunntrål</td>\n",
              "    </tr>\n",
              "    <tr>\n",
              "      <th>2</th>\n",
              "      <td>Torsk</td>\n",
              "      <td>-335</td>\n",
              "      <td>-334</td>\n",
              "      <td>8510.0</td>\n",
              "      <td>Bjørnøya</td>\n",
              "      <td>Bjørnøya</td>\n",
              "      <td>1476.0</td>\n",
              "      <td>Torsk</td>\n",
              "      <td>Bunntrål</td>\n",
              "    </tr>\n",
              "    <tr>\n",
              "      <th>3</th>\n",
              "      <td>Blåkveite</td>\n",
              "      <td>-335</td>\n",
              "      <td>-334</td>\n",
              "      <td>196.0</td>\n",
              "      <td>Bjørnøya</td>\n",
              "      <td>Bjørnøya</td>\n",
              "      <td>1476.0</td>\n",
              "      <td>Blåkveite</td>\n",
              "      <td>Bunntrål</td>\n",
              "    </tr>\n",
              "  </tbody>\n",
              "</table>\n",
              "</div>"
            ],
            "text/plain": [
              "  Art - gruppe  Havdybde start  Havdybde stopp  Rundvekt Hovedområde start  \\\n",
              "1         Hyse            -335            -334    9594.0          Bjørnøya   \n",
              "2        Torsk            -335            -334    8510.0          Bjørnøya   \n",
              "3    Blåkveite            -335            -334     196.0          Bjørnøya   \n",
              "\n",
              "  Hovedområde stopp  Bruttotonnasje 1969 Art - FDIR Redskap FDIR  \n",
              "1          Bjørnøya               1476.0       Hyse     Bunntrål  \n",
              "2          Bjørnøya               1476.0      Torsk     Bunntrål  \n",
              "3          Bjørnøya               1476.0  Blåkveite     Bunntrål  "
            ]
          },
          "execution_count": 4,
          "metadata": {},
          "output_type": "execute_result"
        }
      ],
      "source": [
        "#checking every column for missing values and nan values\n",
        "#print(df.isnull().sum())\n",
        "print(df.isna().sum(), \"\\n\")\n",
        "print(df.isnull().sum())\n",
        "#the 0 values and nan values are being counted the same as the nan values. So it wont be any collissions between the two. Assuming I can safely remove them\n",
        "\n",
        "#removing the rows with missing values\n",
        "df = df.dropna()\n",
        "df.info()\n",
        "print(df.isna().sum())\n",
        "df.head()\n",
        "print(\"Number of rows: \", df.shape[0])\n",
        "df.head()"
      ]
    },
    {
      "cell_type": "code",
      "execution_count": 5,
      "metadata": {},
      "outputs": [
        {
          "name": "stdout",
          "output_type": "stream",
          "text": [
            "Art - gruppe\n",
            "Torsk                                       41944\n",
            "Annen torskefisk                            33439\n",
            "Sei                                         31305\n",
            "Hyse                                        30735\n",
            "Uer                                         17828\n",
            "Annen flatfisk, bunnfisk og dypvannsfisk    15369\n",
            "Steinbiter                                  14706\n",
            "Dypvannsreke                                 8506\n",
            "Blåkveite                                    7049\n",
            "Sild, annen                                  5386\n",
            "Snøkrabbe                                    4135\n",
            "Makrell                                      2780\n",
            "Kolmule                                      2718\n",
            "Skater og annen bruskfisk                    2542\n",
            "Øyepål                                       1929\n",
            "Annen pelagisk fisk                          1748\n",
            "Vassild og strømsild                         1650\n",
            "Lodde                                        1132\n",
            "Tobis og annen sil                            819\n",
            "Andre skalldyr, bløtdyr og pigghuder          409\n",
            "Haifisk                                       307\n",
            "Sjøpattedyr                                   293\n",
            "Raudåte                                       201\n",
            "Kystbrisling                                  193\n",
            "Mesopelagisk fisk                              58\n",
            "Tunfisk og tunfisklignende arter                4\n",
            "Taskekrabbe                                     1\n",
            "Name: count, dtype: int64\n"
          ]
        }
      ],
      "source": [
        "#counting total values of art gruppe\n",
        "print(df['Art - gruppe'].value_counts() , \"\\n\")\n",
        "#counting total values of art fdir\n",
        "print(df['Art - FDIR'].value_counts())"
      ]
    },
    {
      "cell_type": "code",
      "execution_count": 6,
      "metadata": {},
      "outputs": [
        {
          "name": "stdout",
          "output_type": "stream",
          "text": [
            "Art - FDIR\n",
            "Torsk             41944\n",
            "Sei               31305\n",
            "Hyse              30735\n",
            "Lange             12577\n",
            "Uer (vanlig)      12333\n",
            "                  ...  \n",
            "Storskate             1\n",
            "Annen makrell         1\n",
            "Spisskate             1\n",
            "Skjeggtorsk           1\n",
            "Rød kråkebolle        1\n",
            "Name: count, Length: 104, dtype: int64\n"
          ]
        }
      ],
      "source": [
        "#finding out the difference between Art- gruppe and Art - FDIR\n",
        "print(df['Art - gruppe'].unique(), \"\\n\")\n",
        "print(df['Art - FDIR'].unique())\n"
      ]
    },
    {
      "cell_type": "code",
      "execution_count": 7,
      "metadata": {},
      "outputs": [
        {
          "data": {
            "image/png": "[encoded data removed]",
            "text/plain": [
              "<Figure size 640x480 with 1 Axes>"
            ]
          },
          "metadata": {},
          "output_type": "display_data"
        }
      ],
      "source": [
        "#checking if other will be overrepresented in the dataset\n",
        "other_sum = df[~df['Art - gruppe'].isin(['Torsk', 'Sei', 'Hyse'])].shape[0]\n",
        "print(\"Sum of others: \", other_sum)\n",
        "#counting torsk sei and hyse\n",
        "print(df['Art - gruppe'].value_counts())\n",
        "#it definitely will be overrepresented in the dataset. Do we want to remove it? It will certainly add model complexity."
      ]
    },
    {
      "cell_type": "code",
      "execution_count": 8,
      "metadata": {},
      "outputs": [
        {
          "data": {
            "image/png": "[encoded data removed]",
            "text/plain": [
              "<Figure size 640x480 with 1 Axes>"
            ]
          },
          "metadata": {},
          "output_type": "display_data"
        },
        {
          "name": "stdout",
          "output_type": "stream",
          "text": [
            "<class 'pandas.core.frame.DataFrame'>\n",
            "Index: 227186 entries, 1 to 305433\n",
            "Data columns (total 9 columns):\n",
            " #   Column               Non-Null Count   Dtype  \n",
            "---  ------               --------------   -----  \n",
            " 0   Art - gruppe         227186 non-null  object \n",
            " 1   Havdybde start       227186 non-null  int64  \n",
            " 2   Havdybde stopp       227186 non-null  int64  \n",
            " 3   Rundvekt             227186 non-null  float64\n",
            " 4   Hovedområde start    227186 non-null  object \n",
            " 5   Hovedområde stopp    227186 non-null  object \n",
            " 6   Bruttotonnasje 1969  227186 non-null  float64\n",
            " 7   Art - FDIR           227186 non-null  object \n",
            " 8   Redskap FDIR         227186 non-null  object \n",
            "dtypes: float64(2), int64(2), object(5)\n",
            "memory usage: 17.3+ MB\n"
          ]
        }
      ],
      "source": [
        "#counting number of rows\n",
        "print(\"Number of rows: \", df.shape[0])\n",
        "#realising that i havent dropped any rows since the number of rows are still the same\n",
        "df.dropna(inplace=True)\n",
        "print(\"New number of rows: \", df.shape[0])\n",
        "#actually gonna drop all rows other than torsk, sei, hyse. Since we are only interested in these three species. The other are underrepresented and not relevant for our analysis.\n",
        "df = df[df['Art - gruppe'].isin(['Torsk', 'Sei', 'Hyse'])]\n",
        "print(\"Only focusing on torsk sei hyse: \", df.shape[0])\n",
        "df.head()\n",
        "#so now we are working with %{df}.\n"
      ]
    },
    {
      "cell_type": "code",
      "execution_count": 9,
      "metadata": {},
      "outputs": [
        {
          "name": "stdout",
          "output_type": "stream",
          "text": [
            "<class 'pandas.core.frame.DataFrame'>\n",
            "Index: 227186 entries, 1 to 305433\n",
            "Data columns (total 9 columns):\n",
            " #   Column               Non-Null Count   Dtype \n",
            "---  ------               --------------   ----- \n",
            " 0   Art - gruppe         227186 non-null  object\n",
            " 1   Havdybde start       227186 non-null  int64 \n",
            " 2   Havdybde stopp       227186 non-null  int64 \n",
            " 3   Rundvekt             227186 non-null  Int64 \n",
            " 4   Hovedområde start    227186 non-null  object\n",
            " 5   Hovedområde stopp    227186 non-null  object\n",
            " 6   Bruttotonnasje 1969  227186 non-null  Int64 \n",
            " 7   Art - FDIR           227186 non-null  object\n",
            " 8   Redskap FDIR         227186 non-null  object\n",
            "dtypes: Int64(2), int64(2), object(5)\n",
            "memory usage: 17.8+ MB\n"
          ]
        }
      ],
      "source": [
        "\n",
        "#comparing art-gruppe and art-fdir to see if they are the same, counting the values\n",
        "print(df['Art - gruppe'].value_counts(), \"\\n\")\n",
        "print(df['Art - FDIR'].value_counts())\n",
        "#they are the same, so we can remove one of the columns.\n",
        "#removing fdir\n",
        "df = df.drop(columns=['Art - FDIR'])\n",
        "df.head()"
      ]
    },
    {
      "cell_type": "code",
      "execution_count": null,
      "metadata": {},
      "outputs": [],
      "source": [
        "#presenting the count of the different species in the dataset with a barplot\n",
        "sns.countplot(x='Art - gruppe', data=df)\n",
        "plt.title('Count of species')\n",
        "plt.show()"
      ]
    },
    {
      "cell_type": "code",
      "execution_count": null,
      "metadata": {},
      "outputs": [],
      "source": [
        "#counting the unique number of boats\n",
        "print(df['Melding ID'].unique())"
      ]
    },
    {
      "cell_type": "code",
      "execution_count": null,
      "metadata": {},
      "outputs": [],
      "source": [
        "#plotting havdybde start and havdybde stopp using seaborn with different color for each species\n",
        "sns.scatterplot(x='Havdybde start', y='Havdybde stopp', data=df, hue='Art - gruppe')\n",
        "#viewing the plot and seeing it is so dense that it is hard to see the differences between the species. Additionally there are a lot of species over 0 which does not make sense when fishing.\n",
        "\n",
        "#maybe we should use a threshold for the depth, since it is not possible to fish at 0 depth?\n",
        "#then we will loose a lot of data points, so maybe there is a way to transform the outliers?\n",
        "#But then again the transformed outliers will be useless since the initial values are not reliable? Are depth feature even reliable?\n",
        "\n",
        "\n",
        "#note: Should probably transform the Art-gruppe to numerical values with one hot encoding."
      ]
    },
    {
      "cell_type": "markdown",
      "metadata": {},
      "source": [
        "#### This was more about learning about group function, aggregate and then concluding with pivot function will be most relevant\n"
      ]
    },
    {
      "cell_type": "code",
      "execution_count": null,
      "metadata": {},
      "outputs": [],
      "source": [
        "#rows where Melding ID, Starttidspunkt are identical it's actually the same boat just casting different lines from the fishingboat\n",
        "#We would have to transform data to represent the sameboat on a single row\n",
        "#Each row with the same mentioned columns, are representing each row with a different fish. So they use rows to represent the same boat, but different fish\n",
        "\"\"\" grouped = df.groupby(['Melding ID', 'Starttidspunkt', 'Startklokkeslett'])\n",
        "print(grouped.size()) \"\"\"\n",
        "#realising its enough to group by Meldings ID\n",
        "#grouped = df.groupby(['Melding ID', 'Meldingsdato','Starttidspunkt'])\n",
        "#print(grouped.size())\n",
        "\n",
        "#now I would have to aggregate the data where the size is greater than 1 into a single row, but also represent all the different fish in the same row\n",
        "#Since the fish are in each of their own rows orginally, The new row would have to represent all the fish in the same row, with each fish in their own column\n",
        "#I would have to use the pivot function to do this?  Trying with pivot\n",
        "\n",
        "\n",
        "#now I want to aggregate the data where the size is greater than 1 into a single row\n",
        "#code for this would be\n",
        "aggFunctions = {'Melding ID':'first','Starttidspunkt':'first', 'Meldingsdato':'first', 'Art - gruppe':'first', 'Havdybde start':'first', 'Havdybde stopp':'first', 'Rundvekt':'sum', 'Art - FDIR':'first'}\n",
        "\n",
        "#dfNew = df.groupby(['Melding ID', 'Starttidspunkt']).agg(aggFunctions)\n",
        "#transforming each group into a single row\n",
        "#print(dfNew.head())\n",
        "\n",
        "\"\"\" aggFunctions = {'Melding ID':'first','Starttidspunkt':'first', 'Meldingsdato':'first', 'Art - gruppe':'first', 'Havdybde start':'first', 'Havdybde stopp':'first', 'Rundvekt':'sum', 'Art - FDIR':'first'}\n",
        "\n",
        "dfNew = df.groupby('Melding ID','Starttidspunkt').agg(aggFunctions)\n",
        "#transforming each group into a single row\n",
        "print(dfNew.head()) \"\"\""
      ]
    },
    {
      "cell_type": "markdown",
      "metadata": {},
      "source": [
        "#### This was more about solving the row problems"
      ]
    },
    {
      "cell_type": "code",
      "execution_count": null,
      "metadata": {},
      "outputs": [],
      "source": [
        "grouped = dfNew.groupby(['Melding ID', 'Meldingsdato', 'Starttidspunkt'])\n",
        "print(dfNew.grouped.size())\n",
        "\n",
        "#realsing that the same boat is fishing further down in dataset, so we have to group differently.\n",
        "#looking if the same boat gets a new id if its fishing again\n",
        "\"\"\" print(dfNew['Melding ID'].value_counts(),\"\\n\") \"\"\"\n",
        "#checking in old dataset\n",
        "\"\"\" print(df['Melding ID'].value_counts()) \"\"\"\n",
        "#checking the unique values of the Melding ID in the old dataset\n",
        "\"\"\" print(df['Melding ID'].nunique()) \"\"\"\n",
        "#this means its 4937 unique boats in the dataset\n",
        "#I want to check if the same boat gets a new id if its fishing again\n",
        "#checking the whole dataset\n",
        "print(df['Melding ID'].value_counts())\n",
        "\"\"\" Melding ID\n",
        "1657367    54\n",
        "1646724    50\n",
        "1654624    46\n",
        "1601430    44\n",
        "1695415    44 \"\"\"  \n",
        "#this tells me it keeps the same id\n",
        "#But then we would have to group by Melding ID, and Start\n"
      ]
    },
    {
      "cell_type": "code",
      "execution_count": null,
      "metadata": {},
      "outputs": [],
      "source": [
        "#realising that the column Art - gruppe is a categorical variable, we can transform it into a one hot encoding\n",
        "#this will allow us to use the column as a feature for our model\n",
        "dfNew = pd.get_dummies(dfNew, columns=['Art - gruppe'])\n",
        "print(dfNew.head())"
      ]
    }
  ],
  "metadata": {
    "colab": {
      "provenance": []
    },
    "kernelspec": {
      "display_name": "Python 3",
      "name": "python3"
    },
    "language_info": {
      "codemirror_mode": {
        "name": "ipython",
        "version": 3
      },
      "file_extension": ".py",
      "mimetype": "text/x-python",
      "name": "python",
      "nbconvert_exporter": "python",
      "pygments_lexer": "ipython3",
      "version": "3.10.11"
    }
  },
  "nbformat": 4,
  "nbformat_minor": 0
}
